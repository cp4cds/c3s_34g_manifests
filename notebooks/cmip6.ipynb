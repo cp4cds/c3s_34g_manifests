{
 "cells": [
  {
   "cell_type": "markdown",
   "id": "62d59b95-aa02-4a15-af48-956da19d3ae1",
   "metadata": {},
   "source": [
    "# CMIP6 Catalog"
   ]
  },
  {
   "cell_type": "code",
   "execution_count": null,
   "id": "744fde95-ba69-4241-b538-67b0f0cb48b7",
   "metadata": {},
   "outputs": [],
   "source": [
    "import intake\n",
    "import pandas as pd"
   ]
  },
  {
   "cell_type": "code",
   "execution_count": null,
   "id": "0187c9a7-ed74-4638-bc9d-fde5ae09bdb7",
   "metadata": {},
   "outputs": [],
   "source": [
    "#cat_url = \"https://raw.githubusercontent.com/cp4cds/c3s_34g_manifests/master/intake/catalogs/c3s.yaml\"\n",
    "cat_url = \"https://github.com/cp4cds/c3s_34g_manifests/raw/add-fixes-for-cmip6-cordex/intake/catalogs/c3s.yaml\"\n",
    "\n",
    "cat = intake.open_catalog(cat_url)\n",
    "list(cat)"
   ]
  },
  {
   "cell_type": "markdown",
   "id": "b38a0670-afb4-4561-a866-2e1630c7427e",
   "metadata": {},
   "source": [
    "## Load CMIP6 catalog"
   ]
  },
  {
   "cell_type": "code",
   "execution_count": null,
   "id": "e6b1f72a-c234-45ae-a0da-34dd2dd6c591",
   "metadata": {},
   "outputs": [],
   "source": [
    "df_cmip6 = cat['c3s-cmip6'].read()\n",
    "df_cmip6"
   ]
  },
  {
   "cell_type": "code",
   "execution_count": null,
   "id": "afe7d1c6-8b83-44bb-8e96-eba329ca2161",
   "metadata": {},
   "outputs": [],
   "source": [
    "df_cmip6.nunique()"
   ]
  },
  {
   "cell_type": "markdown",
   "id": "ca242731-2933-44ad-a00e-05d47766c365",
   "metadata": {},
   "source": [
    "## Generate manifest file"
   ]
  },
  {
   "cell_type": "code",
   "execution_count": null,
   "id": "568df147-f92f-4d1b-8986-97e709488c13",
   "metadata": {},
   "outputs": [],
   "source": [
    "base_url = \"https://data.mips.copernicus-climate.eu/thredds/fileServer/esg_c3s-cmip6\"\n",
    "\n",
    "df_cmip6[\"url\"] = df_cmip6['path'].apply(lambda p: f'{base_url}/{p}')\n",
    "df = df_cmip6.sort_values(by='url')\n",
    "df"
   ]
  },
  {
   "cell_type": "code",
   "execution_count": null,
   "id": "81d3491d-b551-45d0-8661-c1e2d42a49ea",
   "metadata": {},
   "outputs": [],
   "source": [
    "df.url[0]"
   ]
  },
  {
   "cell_type": "code",
   "execution_count": null,
   "id": "668b1c6a-af9b-465c-bb6d-468416f034f5",
   "metadata": {},
   "outputs": [],
   "source": [
    "# df.to_csv(\"../cmip6/manifest_C3S_CMIP6_20220830.txt.gz\", columns=[\"url\"], header=False, index=False, sep=' ', compression='gzip')"
   ]
  }
 ],
 "metadata": {
  "kernelspec": {
   "display_name": "Python 3 (ipykernel)",
   "language": "python",
   "name": "python3"
  },
  "language_info": {
   "codemirror_mode": {
    "name": "ipython",
    "version": 3
   },
   "file_extension": ".py",
   "mimetype": "text/x-python",
   "name": "python",
   "nbconvert_exporter": "python",
   "pygments_lexer": "ipython3",
   "version": "3.10.6"
  }
 },
 "nbformat": 4,
 "nbformat_minor": 5
}
