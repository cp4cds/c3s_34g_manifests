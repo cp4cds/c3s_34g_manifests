{
 "cells": [
  {
   "cell_type": "markdown",
   "id": "62d59b95-aa02-4a15-af48-956da19d3ae1",
   "metadata": {},
   "source": [
    "# Compare cmip5 intake with disk"
   ]
  },
  {
   "cell_type": "code",
   "execution_count": 1,
   "id": "744fde95-ba69-4241-b538-67b0f0cb48b7",
   "metadata": {},
   "outputs": [],
   "source": [
    "import intake\n",
    "import pandas as pd\n",
    "import datetime"
   ]
  },
  {
   "cell_type": "code",
   "execution_count": 2,
   "id": "0187c9a7-ed74-4638-bc9d-fde5ae09bdb7",
   "metadata": {},
   "outputs": [
    {
     "data": {
      "text/plain": [
       "['c3s-cmip5',\n",
       " 'c3s-cmip5-daily-pressure-level',\n",
       " 'c3s-cmip5-daily-single-level',\n",
       " 'c3s-cmip5-monthly-pressure-level',\n",
       " 'c3s-cmip5-monthly-single-level',\n",
       " 'c3s-cmip6',\n",
       " 'c3s-cmip6-decadal',\n",
       " 'c3s-cordex',\n",
       " 'c3s-ipcc-atlas',\n",
       " 'c3s-cica-atlas']"
      ]
     },
     "execution_count": 2,
     "metadata": {},
     "output_type": "execute_result"
    }
   ],
   "source": [
    "cat_url = \"https://raw.githubusercontent.com/cp4cds/c3s_34g_manifests/master/intake/catalogs/c3s.yaml\"\n",
    "\n",
    "cat = intake.open_catalog(cat_url)\n",
    "cats = list(cat)\n",
    "cats"
   ]
  },
  {
   "cell_type": "markdown",
   "id": "2f226482-82f2-4e2e-b8da-842d7534ad71",
   "metadata": {},
   "source": [
    "## Load intake catalog"
   ]
  },
  {
   "cell_type": "code",
   "execution_count": 3,
   "id": "ad51d079-936a-4225-be4c-6bc7d919abfa",
   "metadata": {},
   "outputs": [
    {
     "data": {
      "text/html": [
       "<div>\n",
       "<style scoped>\n",
       "    .dataframe tbody tr th:only-of-type {\n",
       "        vertical-align: middle;\n",
       "    }\n",
       "\n",
       "    .dataframe tbody tr th {\n",
       "        vertical-align: top;\n",
       "    }\n",
       "\n",
       "    .dataframe thead th {\n",
       "        text-align: right;\n",
       "    }\n",
       "</style>\n",
       "<table border=\"1\" class=\"dataframe\">\n",
       "  <thead>\n",
       "    <tr style=\"text-align: right;\">\n",
       "      <th></th>\n",
       "      <th>ds_id</th>\n",
       "      <th>path</th>\n",
       "      <th>size</th>\n",
       "      <th>project</th>\n",
       "      <th>product</th>\n",
       "      <th>institute</th>\n",
       "      <th>model</th>\n",
       "      <th>experiment</th>\n",
       "      <th>time_frequency</th>\n",
       "      <th>realm</th>\n",
       "      <th>...</th>\n",
       "      <th>version</th>\n",
       "      <th>start_time</th>\n",
       "      <th>end_time</th>\n",
       "      <th>bbox</th>\n",
       "      <th>level</th>\n",
       "      <th>units</th>\n",
       "      <th>variable_name</th>\n",
       "      <th>description</th>\n",
       "      <th>url</th>\n",
       "      <th>label</th>\n",
       "    </tr>\n",
       "  </thead>\n",
       "  <tbody>\n",
       "    <tr>\n",
       "      <th>0</th>\n",
       "      <td>c3s-cmip5.output1.BCC.bcc-csm1-1.amip.mon.atmo...</td>\n",
       "      <td>output1/BCC/bcc-csm1-1/amip/mon/atmos/Amon/r1i...</td>\n",
       "      <td>NaN</td>\n",
       "      <td>c3s-cmip5</td>\n",
       "      <td>output1</td>\n",
       "      <td>BCC</td>\n",
       "      <td>bcc-csm1-1</td>\n",
       "      <td>amip</td>\n",
       "      <td>mon</td>\n",
       "      <td>atmos</td>\n",
       "      <td>...</td>\n",
       "      <td>v20181201</td>\n",
       "      <td>1979-01-01T12:00:00</td>\n",
       "      <td>2008-12-31T12:00:00</td>\n",
       "      <td>NaN</td>\n",
       "      <td>NaN</td>\n",
       "      <td>1</td>\n",
       "      <td>Total cloud fraction (clt)</td>\n",
       "      <td>Total refers to the whole atmosphere column, a...</td>\n",
       "      <td>https://data.mips.climate.copernicus.eu/thredd...</td>\n",
       "      <td>cmip5-monthly-single-level</td>\n",
       "    </tr>\n",
       "    <tr>\n",
       "      <th>1</th>\n",
       "      <td>c3s-cmip5.output1.BCC.bcc-csm1-1.amip.mon.atmo...</td>\n",
       "      <td>output1/BCC/bcc-csm1-1/amip/mon/atmos/Amon/r1i...</td>\n",
       "      <td>NaN</td>\n",
       "      <td>c3s-cmip5</td>\n",
       "      <td>output1</td>\n",
       "      <td>BCC</td>\n",
       "      <td>bcc-csm1-1</td>\n",
       "      <td>amip</td>\n",
       "      <td>mon</td>\n",
       "      <td>atmos</td>\n",
       "      <td>...</td>\n",
       "      <td>v20181201</td>\n",
       "      <td>1979-01-01T12:00:00</td>\n",
       "      <td>2008-12-31T12:00:00</td>\n",
       "      <td>NaN</td>\n",
       "      <td>NaN</td>\n",
       "      <td>kg.m^-2.s^-1</td>\n",
       "      <td>Evaporation (evspsbl)</td>\n",
       "      <td>Evaporation rate. It includes conversion to va...</td>\n",
       "      <td>https://data.mips.climate.copernicus.eu/thredd...</td>\n",
       "      <td>cmip5-monthly-single-level</td>\n",
       "    </tr>\n",
       "    <tr>\n",
       "      <th>2</th>\n",
       "      <td>c3s-cmip5.output1.BCC.bcc-csm1-1.amip.mon.atmo...</td>\n",
       "      <td>output1/BCC/bcc-csm1-1/amip/mon/atmos/Amon/r1i...</td>\n",
       "      <td>NaN</td>\n",
       "      <td>c3s-cmip5</td>\n",
       "      <td>output1</td>\n",
       "      <td>BCC</td>\n",
       "      <td>bcc-csm1-1</td>\n",
       "      <td>amip</td>\n",
       "      <td>mon</td>\n",
       "      <td>atmos</td>\n",
       "      <td>...</td>\n",
       "      <td>v20181201</td>\n",
       "      <td>1979-01-01T12:00:00</td>\n",
       "      <td>2008-12-31T12:00:00</td>\n",
       "      <td>NaN</td>\n",
       "      <td>NaN</td>\n",
       "      <td>W.m^-2</td>\n",
       "      <td>Surface latent heat flux (hfls)</td>\n",
       "      <td>Flux per unit area of heat between the surface...</td>\n",
       "      <td>https://data.mips.climate.copernicus.eu/thredd...</td>\n",
       "      <td>cmip5-monthly-single-level</td>\n",
       "    </tr>\n",
       "    <tr>\n",
       "      <th>3</th>\n",
       "      <td>c3s-cmip5.output1.BCC.bcc-csm1-1.amip.mon.atmo...</td>\n",
       "      <td>output1/BCC/bcc-csm1-1/amip/mon/atmos/Amon/r1i...</td>\n",
       "      <td>NaN</td>\n",
       "      <td>c3s-cmip5</td>\n",
       "      <td>output1</td>\n",
       "      <td>BCC</td>\n",
       "      <td>bcc-csm1-1</td>\n",
       "      <td>amip</td>\n",
       "      <td>mon</td>\n",
       "      <td>atmos</td>\n",
       "      <td>...</td>\n",
       "      <td>v20181201</td>\n",
       "      <td>1979-01-01T12:00:00</td>\n",
       "      <td>2008-12-31T12:00:00</td>\n",
       "      <td>NaN</td>\n",
       "      <td>NaN</td>\n",
       "      <td>W.m^-2</td>\n",
       "      <td>Surface sensible heat flux (hfss)</td>\n",
       "      <td>Flux per unit area of heat between the surface...</td>\n",
       "      <td>https://data.mips.climate.copernicus.eu/thredd...</td>\n",
       "      <td>cmip5-monthly-single-level</td>\n",
       "    </tr>\n",
       "    <tr>\n",
       "      <th>4</th>\n",
       "      <td>c3s-cmip5.output1.BCC.bcc-csm1-1.amip.mon.atmo...</td>\n",
       "      <td>output1/BCC/bcc-csm1-1/amip/mon/atmos/Amon/r1i...</td>\n",
       "      <td>NaN</td>\n",
       "      <td>c3s-cmip5</td>\n",
       "      <td>output1</td>\n",
       "      <td>BCC</td>\n",
       "      <td>bcc-csm1-1</td>\n",
       "      <td>amip</td>\n",
       "      <td>mon</td>\n",
       "      <td>atmos</td>\n",
       "      <td>...</td>\n",
       "      <td>v20181201</td>\n",
       "      <td>1979-01-01T12:00:00</td>\n",
       "      <td>2008-12-31T12:00:00</td>\n",
       "      <td>NaN</td>\n",
       "      <td>NaN</td>\n",
       "      <td>kg.m-^2.s^-1</td>\n",
       "      <td>Snowfall flux (prsn)</td>\n",
       "      <td>Mass of water in the form of snow precipitatin...</td>\n",
       "      <td>https://data.mips.climate.copernicus.eu/thredd...</td>\n",
       "      <td>cmip5-monthly-single-level</td>\n",
       "    </tr>\n",
       "    <tr>\n",
       "      <th>...</th>\n",
       "      <td>...</td>\n",
       "      <td>...</td>\n",
       "      <td>...</td>\n",
       "      <td>...</td>\n",
       "      <td>...</td>\n",
       "      <td>...</td>\n",
       "      <td>...</td>\n",
       "      <td>...</td>\n",
       "      <td>...</td>\n",
       "      <td>...</td>\n",
       "      <td>...</td>\n",
       "      <td>...</td>\n",
       "      <td>...</td>\n",
       "      <td>...</td>\n",
       "      <td>...</td>\n",
       "      <td>...</td>\n",
       "      <td>...</td>\n",
       "      <td>...</td>\n",
       "      <td>...</td>\n",
       "      <td>...</td>\n",
       "      <td>...</td>\n",
       "    </tr>\n",
       "    <tr>\n",
       "      <th>171682</th>\n",
       "      <td>c3s-cmip5.output1.NOAA-GFDL.GFDL-HIRAM-C360.am...</td>\n",
       "      <td>output1/NOAA-GFDL/GFDL-HIRAM-C360/amip/day/atm...</td>\n",
       "      <td>NaN</td>\n",
       "      <td>c3s-cmip5</td>\n",
       "      <td>output1</td>\n",
       "      <td>NOAA-GFDL</td>\n",
       "      <td>GFDL-HIRAM-C360</td>\n",
       "      <td>amip</td>\n",
       "      <td>day</td>\n",
       "      <td>atmos</td>\n",
       "      <td>...</td>\n",
       "      <td>v20110601</td>\n",
       "      <td>2004-01-01T12:00:00</td>\n",
       "      <td>2004-12-31T12:00:00</td>\n",
       "      <td>NaN</td>\n",
       "      <td>NaN</td>\n",
       "      <td>m</td>\n",
       "      <td>Geopotential height (zg)</td>\n",
       "      <td>Gravitational potential energy per unit mass n...</td>\n",
       "      <td>https://data.mips.climate.copernicus.eu/thredd...</td>\n",
       "      <td>cmip5-daily-pressure-level</td>\n",
       "    </tr>\n",
       "    <tr>\n",
       "      <th>171683</th>\n",
       "      <td>c3s-cmip5.output1.NOAA-GFDL.GFDL-HIRAM-C360.am...</td>\n",
       "      <td>output1/NOAA-GFDL/GFDL-HIRAM-C360/amip/day/atm...</td>\n",
       "      <td>NaN</td>\n",
       "      <td>c3s-cmip5</td>\n",
       "      <td>output1</td>\n",
       "      <td>NOAA-GFDL</td>\n",
       "      <td>GFDL-HIRAM-C360</td>\n",
       "      <td>amip</td>\n",
       "      <td>day</td>\n",
       "      <td>atmos</td>\n",
       "      <td>...</td>\n",
       "      <td>v20110601</td>\n",
       "      <td>2005-01-01T12:00:00</td>\n",
       "      <td>2005-12-31T12:00:00</td>\n",
       "      <td>NaN</td>\n",
       "      <td>NaN</td>\n",
       "      <td>m</td>\n",
       "      <td>Geopotential height (zg)</td>\n",
       "      <td>Gravitational potential energy per unit mass n...</td>\n",
       "      <td>https://data.mips.climate.copernicus.eu/thredd...</td>\n",
       "      <td>cmip5-daily-pressure-level</td>\n",
       "    </tr>\n",
       "    <tr>\n",
       "      <th>171684</th>\n",
       "      <td>c3s-cmip5.output1.NOAA-GFDL.GFDL-HIRAM-C360.am...</td>\n",
       "      <td>output1/NOAA-GFDL/GFDL-HIRAM-C360/amip/day/atm...</td>\n",
       "      <td>NaN</td>\n",
       "      <td>c3s-cmip5</td>\n",
       "      <td>output1</td>\n",
       "      <td>NOAA-GFDL</td>\n",
       "      <td>GFDL-HIRAM-C360</td>\n",
       "      <td>amip</td>\n",
       "      <td>day</td>\n",
       "      <td>atmos</td>\n",
       "      <td>...</td>\n",
       "      <td>v20110601</td>\n",
       "      <td>2006-01-01T12:00:00</td>\n",
       "      <td>2006-12-31T12:00:00</td>\n",
       "      <td>NaN</td>\n",
       "      <td>NaN</td>\n",
       "      <td>m</td>\n",
       "      <td>Geopotential height (zg)</td>\n",
       "      <td>Gravitational potential energy per unit mass n...</td>\n",
       "      <td>https://data.mips.climate.copernicus.eu/thredd...</td>\n",
       "      <td>cmip5-daily-pressure-level</td>\n",
       "    </tr>\n",
       "    <tr>\n",
       "      <th>171685</th>\n",
       "      <td>c3s-cmip5.output1.NOAA-GFDL.GFDL-HIRAM-C360.am...</td>\n",
       "      <td>output1/NOAA-GFDL/GFDL-HIRAM-C360/amip/day/atm...</td>\n",
       "      <td>NaN</td>\n",
       "      <td>c3s-cmip5</td>\n",
       "      <td>output1</td>\n",
       "      <td>NOAA-GFDL</td>\n",
       "      <td>GFDL-HIRAM-C360</td>\n",
       "      <td>amip</td>\n",
       "      <td>day</td>\n",
       "      <td>atmos</td>\n",
       "      <td>...</td>\n",
       "      <td>v20110601</td>\n",
       "      <td>2007-01-01T12:00:00</td>\n",
       "      <td>2007-12-31T12:00:00</td>\n",
       "      <td>NaN</td>\n",
       "      <td>NaN</td>\n",
       "      <td>m</td>\n",
       "      <td>Geopotential height (zg)</td>\n",
       "      <td>Gravitational potential energy per unit mass n...</td>\n",
       "      <td>https://data.mips.climate.copernicus.eu/thredd...</td>\n",
       "      <td>cmip5-daily-pressure-level</td>\n",
       "    </tr>\n",
       "    <tr>\n",
       "      <th>171686</th>\n",
       "      <td>c3s-cmip5.output1.NOAA-GFDL.GFDL-HIRAM-C360.am...</td>\n",
       "      <td>output1/NOAA-GFDL/GFDL-HIRAM-C360/amip/day/atm...</td>\n",
       "      <td>NaN</td>\n",
       "      <td>c3s-cmip5</td>\n",
       "      <td>output1</td>\n",
       "      <td>NOAA-GFDL</td>\n",
       "      <td>GFDL-HIRAM-C360</td>\n",
       "      <td>amip</td>\n",
       "      <td>day</td>\n",
       "      <td>atmos</td>\n",
       "      <td>...</td>\n",
       "      <td>v20110601</td>\n",
       "      <td>2008-01-01T12:00:00</td>\n",
       "      <td>2008-12-31T12:00:00</td>\n",
       "      <td>NaN</td>\n",
       "      <td>NaN</td>\n",
       "      <td>m</td>\n",
       "      <td>Geopotential height (zg)</td>\n",
       "      <td>Gravitational potential energy per unit mass n...</td>\n",
       "      <td>https://data.mips.climate.copernicus.eu/thredd...</td>\n",
       "      <td>cmip5-daily-pressure-level</td>\n",
       "    </tr>\n",
       "  </tbody>\n",
       "</table>\n",
       "<p>171687 rows × 23 columns</p>\n",
       "</div>"
      ],
      "text/plain": [
       "                                                    ds_id  \\\n",
       "0       c3s-cmip5.output1.BCC.bcc-csm1-1.amip.mon.atmo...   \n",
       "1       c3s-cmip5.output1.BCC.bcc-csm1-1.amip.mon.atmo...   \n",
       "2       c3s-cmip5.output1.BCC.bcc-csm1-1.amip.mon.atmo...   \n",
       "3       c3s-cmip5.output1.BCC.bcc-csm1-1.amip.mon.atmo...   \n",
       "4       c3s-cmip5.output1.BCC.bcc-csm1-1.amip.mon.atmo...   \n",
       "...                                                   ...   \n",
       "171682  c3s-cmip5.output1.NOAA-GFDL.GFDL-HIRAM-C360.am...   \n",
       "171683  c3s-cmip5.output1.NOAA-GFDL.GFDL-HIRAM-C360.am...   \n",
       "171684  c3s-cmip5.output1.NOAA-GFDL.GFDL-HIRAM-C360.am...   \n",
       "171685  c3s-cmip5.output1.NOAA-GFDL.GFDL-HIRAM-C360.am...   \n",
       "171686  c3s-cmip5.output1.NOAA-GFDL.GFDL-HIRAM-C360.am...   \n",
       "\n",
       "                                                     path  size    project  \\\n",
       "0       output1/BCC/bcc-csm1-1/amip/mon/atmos/Amon/r1i...   NaN  c3s-cmip5   \n",
       "1       output1/BCC/bcc-csm1-1/amip/mon/atmos/Amon/r1i...   NaN  c3s-cmip5   \n",
       "2       output1/BCC/bcc-csm1-1/amip/mon/atmos/Amon/r1i...   NaN  c3s-cmip5   \n",
       "3       output1/BCC/bcc-csm1-1/amip/mon/atmos/Amon/r1i...   NaN  c3s-cmip5   \n",
       "4       output1/BCC/bcc-csm1-1/amip/mon/atmos/Amon/r1i...   NaN  c3s-cmip5   \n",
       "...                                                   ...   ...        ...   \n",
       "171682  output1/NOAA-GFDL/GFDL-HIRAM-C360/amip/day/atm...   NaN  c3s-cmip5   \n",
       "171683  output1/NOAA-GFDL/GFDL-HIRAM-C360/amip/day/atm...   NaN  c3s-cmip5   \n",
       "171684  output1/NOAA-GFDL/GFDL-HIRAM-C360/amip/day/atm...   NaN  c3s-cmip5   \n",
       "171685  output1/NOAA-GFDL/GFDL-HIRAM-C360/amip/day/atm...   NaN  c3s-cmip5   \n",
       "171686  output1/NOAA-GFDL/GFDL-HIRAM-C360/amip/day/atm...   NaN  c3s-cmip5   \n",
       "\n",
       "        product  institute            model experiment time_frequency  realm  \\\n",
       "0       output1        BCC       bcc-csm1-1       amip            mon  atmos   \n",
       "1       output1        BCC       bcc-csm1-1       amip            mon  atmos   \n",
       "2       output1        BCC       bcc-csm1-1       amip            mon  atmos   \n",
       "3       output1        BCC       bcc-csm1-1       amip            mon  atmos   \n",
       "4       output1        BCC       bcc-csm1-1       amip            mon  atmos   \n",
       "...         ...        ...              ...        ...            ...    ...   \n",
       "171682  output1  NOAA-GFDL  GFDL-HIRAM-C360       amip            day  atmos   \n",
       "171683  output1  NOAA-GFDL  GFDL-HIRAM-C360       amip            day  atmos   \n",
       "171684  output1  NOAA-GFDL  GFDL-HIRAM-C360       amip            day  atmos   \n",
       "171685  output1  NOAA-GFDL  GFDL-HIRAM-C360       amip            day  atmos   \n",
       "171686  output1  NOAA-GFDL  GFDL-HIRAM-C360       amip            day  atmos   \n",
       "\n",
       "        ...    version           start_time             end_time bbox level  \\\n",
       "0       ...  v20181201  1979-01-01T12:00:00  2008-12-31T12:00:00  NaN   NaN   \n",
       "1       ...  v20181201  1979-01-01T12:00:00  2008-12-31T12:00:00  NaN   NaN   \n",
       "2       ...  v20181201  1979-01-01T12:00:00  2008-12-31T12:00:00  NaN   NaN   \n",
       "3       ...  v20181201  1979-01-01T12:00:00  2008-12-31T12:00:00  NaN   NaN   \n",
       "4       ...  v20181201  1979-01-01T12:00:00  2008-12-31T12:00:00  NaN   NaN   \n",
       "...     ...        ...                  ...                  ...  ...   ...   \n",
       "171682  ...  v20110601  2004-01-01T12:00:00  2004-12-31T12:00:00  NaN   NaN   \n",
       "171683  ...  v20110601  2005-01-01T12:00:00  2005-12-31T12:00:00  NaN   NaN   \n",
       "171684  ...  v20110601  2006-01-01T12:00:00  2006-12-31T12:00:00  NaN   NaN   \n",
       "171685  ...  v20110601  2007-01-01T12:00:00  2007-12-31T12:00:00  NaN   NaN   \n",
       "171686  ...  v20110601  2008-01-01T12:00:00  2008-12-31T12:00:00  NaN   NaN   \n",
       "\n",
       "               units                      variable_name  \\\n",
       "0                  1         Total cloud fraction (clt)   \n",
       "1       kg.m^-2.s^-1              Evaporation (evspsbl)   \n",
       "2             W.m^-2    Surface latent heat flux (hfls)   \n",
       "3             W.m^-2  Surface sensible heat flux (hfss)   \n",
       "4       kg.m-^2.s^-1               Snowfall flux (prsn)   \n",
       "...              ...                                ...   \n",
       "171682             m           Geopotential height (zg)   \n",
       "171683             m           Geopotential height (zg)   \n",
       "171684             m           Geopotential height (zg)   \n",
       "171685             m           Geopotential height (zg)   \n",
       "171686             m           Geopotential height (zg)   \n",
       "\n",
       "                                              description  \\\n",
       "0       Total refers to the whole atmosphere column, a...   \n",
       "1       Evaporation rate. It includes conversion to va...   \n",
       "2       Flux per unit area of heat between the surface...   \n",
       "3       Flux per unit area of heat between the surface...   \n",
       "4       Mass of water in the form of snow precipitatin...   \n",
       "...                                                   ...   \n",
       "171682  Gravitational potential energy per unit mass n...   \n",
       "171683  Gravitational potential energy per unit mass n...   \n",
       "171684  Gravitational potential energy per unit mass n...   \n",
       "171685  Gravitational potential energy per unit mass n...   \n",
       "171686  Gravitational potential energy per unit mass n...   \n",
       "\n",
       "                                                      url  \\\n",
       "0       https://data.mips.climate.copernicus.eu/thredd...   \n",
       "1       https://data.mips.climate.copernicus.eu/thredd...   \n",
       "2       https://data.mips.climate.copernicus.eu/thredd...   \n",
       "3       https://data.mips.climate.copernicus.eu/thredd...   \n",
       "4       https://data.mips.climate.copernicus.eu/thredd...   \n",
       "...                                                   ...   \n",
       "171682  https://data.mips.climate.copernicus.eu/thredd...   \n",
       "171683  https://data.mips.climate.copernicus.eu/thredd...   \n",
       "171684  https://data.mips.climate.copernicus.eu/thredd...   \n",
       "171685  https://data.mips.climate.copernicus.eu/thredd...   \n",
       "171686  https://data.mips.climate.copernicus.eu/thredd...   \n",
       "\n",
       "                             label  \n",
       "0       cmip5-monthly-single-level  \n",
       "1       cmip5-monthly-single-level  \n",
       "2       cmip5-monthly-single-level  \n",
       "3       cmip5-monthly-single-level  \n",
       "4       cmip5-monthly-single-level  \n",
       "...                            ...  \n",
       "171682  cmip5-daily-pressure-level  \n",
       "171683  cmip5-daily-pressure-level  \n",
       "171684  cmip5-daily-pressure-level  \n",
       "171685  cmip5-daily-pressure-level  \n",
       "171686  cmip5-daily-pressure-level  \n",
       "\n",
       "[171687 rows x 23 columns]"
      ]
     },
     "execution_count": 3,
     "metadata": {},
     "output_type": "execute_result"
    }
   ],
   "source": [
    "df = cat[\"c3s-cmip5\"].read()\n",
    "df"
   ]
  },
  {
   "cell_type": "code",
   "execution_count": 4,
   "id": "e4836d9d-10c2-4acd-a5a8-d169bfe9b4aa",
   "metadata": {},
   "outputs": [
    {
     "data": {
      "text/plain": [
       "171687"
      ]
     },
     "execution_count": 4,
     "metadata": {},
     "output_type": "execute_result"
    }
   ],
   "source": [
    "cmip5_intake_paths = set(list(df[\"path\"]))\n",
    "len(cmip5_intake_paths)"
   ]
  },
  {
   "cell_type": "markdown",
   "id": "16efc1e9-9589-4cc4-bb05-4263332c31dd",
   "metadata": {},
   "source": [
    "## load ipsl files"
   ]
  },
  {
   "cell_type": "code",
   "execution_count": 5,
   "id": "102c7205-de3c-4141-9e48-ede32e4afa2b",
   "metadata": {},
   "outputs": [],
   "source": [
    "import gzip\n",
    "\n",
    "cmip5_ipsl = []\n",
    "\n",
    "with gzip.open(\"../cmip5/C3S-CMIP5-ipsl-20240716.txt.gz\", \"rb\") as f:\n",
    "    for line in f:\n",
    "        p = line.split(b\"C3S-CMIP5/\")[1]\n",
    "        p = p.strip()\n",
    "        cmip5_ipsl.append(p.decode())"
   ]
  },
  {
   "cell_type": "code",
   "execution_count": 6,
   "id": "a0161e75-ac84-441f-afe4-cda68f7e6d4d",
   "metadata": {},
   "outputs": [
    {
     "data": {
      "text/plain": [
       "'output1/NCC/NorESM1-M/amip/fx/land/fx/r0i0p0/sftgif/v20110901/sftgif_fx_NorESM1-M_amip_r0i0p0.nc'"
      ]
     },
     "execution_count": 6,
     "metadata": {},
     "output_type": "execute_result"
    }
   ],
   "source": [
    "cmip5_ipsl[0]"
   ]
  },
  {
   "cell_type": "markdown",
   "id": "25eb392f-cf15-4369-b418-78c1674ed9a7",
   "metadata": {},
   "source": [
    "### missing in intake"
   ]
  },
  {
   "cell_type": "code",
   "execution_count": 7,
   "id": "cad30518-d092-42ab-8b20-e3efda1797d4",
   "metadata": {},
   "outputs": [
    {
     "data": {
      "text/plain": [
       "2535"
      ]
     },
     "execution_count": 7,
     "metadata": {},
     "output_type": "execute_result"
    }
   ],
   "source": [
    "missing_in_intake = set(cmip5_ipsl) - cmip5_intake_paths \n",
    "len(missing_in_intake)"
   ]
  },
  {
   "cell_type": "code",
   "execution_count": 8,
   "id": "307b83b9-26d4-4a31-99fa-2da07f544fda",
   "metadata": {},
   "outputs": [
    {
     "data": {
      "text/plain": [
       "'output1/CMCC/CMCC-CM/piControl/3hr/atmos/3hr/r1i1p1/vas/v20120330/vas_3hr_CMCC-CM_piControl_r1i1p1_185301010000-185312312100.nc'"
      ]
     },
     "execution_count": 8,
     "metadata": {},
     "output_type": "execute_result"
    }
   ],
   "source": [
    "list(missing_in_intake)[0]"
   ]
  },
  {
   "cell_type": "markdown",
   "id": "6e0fd4db-8567-4191-ba36-4e671980ac5a",
   "metadata": {},
   "source": [
    "### missing on disk at ipsl"
   ]
  },
  {
   "cell_type": "code",
   "execution_count": 9,
   "id": "9524395a-1062-4cdd-9866-054b23e23d32",
   "metadata": {},
   "outputs": [
    {
     "data": {
      "text/plain": [
       "0"
      ]
     },
     "execution_count": 9,
     "metadata": {},
     "output_type": "execute_result"
    }
   ],
   "source": [
    "missing_on_disk = cmip5_intake_paths - set(cmip5_ipsl)\n",
    "len(missing_on_disk)"
   ]
  },
  {
   "cell_type": "markdown",
   "id": "722101c8-b206-475a-825c-551fbfd9e08f",
   "metadata": {},
   "source": [
    "## load dkrz files"
   ]
  },
  {
   "cell_type": "code",
   "execution_count": 10,
   "id": "a06a549f-f001-4979-82c2-10c308bfc966",
   "metadata": {},
   "outputs": [],
   "source": [
    "import gzip\n",
    "\n",
    "cmip5_dkrz = []\n",
    "\n",
    "with gzip.open(\"../cmip5/c3s-cmip5-dkrz-20240716.txt.gz\", \"rb\") as f:\n",
    "    for line in f:\n",
    "        p = line.split(b\"c3s-cmip5/\")[1]\n",
    "        p = p.strip()\n",
    "        cmip5_dkrz.append(p.decode())"
   ]
  },
  {
   "cell_type": "markdown",
   "id": "a3a03a08-d8ac-4da0-9baf-595427c135d3",
   "metadata": {},
   "source": [
    "### missing in intake"
   ]
  },
  {
   "cell_type": "code",
   "execution_count": 11,
   "id": "10abea09-0032-4290-8e3c-037a53f4a03c",
   "metadata": {},
   "outputs": [
    {
     "data": {
      "text/plain": [
       "2538"
      ]
     },
     "execution_count": 11,
     "metadata": {},
     "output_type": "execute_result"
    }
   ],
   "source": [
    "missing_in_intake = set(cmip5_dkrz) - cmip5_intake_paths \n",
    "len(missing_in_intake)"
   ]
  },
  {
   "cell_type": "code",
   "execution_count": 12,
   "id": "b36e7555-085f-45ac-a471-a37c36a9465d",
   "metadata": {},
   "outputs": [
    {
     "data": {
      "text/plain": [
       "'output1/CMCC/CMCC-CM/piControl/3hr/atmos/3hr/r1i1p1/vas/v20120330/vas_3hr_CMCC-CM_piControl_r1i1p1_185301010000-185312312100.nc'"
      ]
     },
     "execution_count": 12,
     "metadata": {},
     "output_type": "execute_result"
    }
   ],
   "source": [
    "list(missing_in_intake)[0]"
   ]
  },
  {
   "cell_type": "markdown",
   "id": "6a42eeac-315a-4c49-92a4-94a92dba98b3",
   "metadata": {},
   "source": [
    "### missing on disk at dkrz"
   ]
  },
  {
   "cell_type": "code",
   "execution_count": 13,
   "id": "a04074bb-9299-463c-ad4d-dc1fb6dd995b",
   "metadata": {},
   "outputs": [
    {
     "data": {
      "text/plain": [
       "0"
      ]
     },
     "execution_count": 13,
     "metadata": {},
     "output_type": "execute_result"
    }
   ],
   "source": [
    "missing_on_disk = cmip5_intake_paths - set(cmip5_dkrz)\n",
    "len(missing_on_disk)"
   ]
  }
 ],
 "metadata": {
  "kernelspec": {
   "display_name": "Python 3 (ipykernel)",
   "language": "python",
   "name": "python3"
  },
  "language_info": {
   "codemirror_mode": {
    "name": "ipython",
    "version": 3
   },
   "file_extension": ".py",
   "mimetype": "text/x-python",
   "name": "python",
   "nbconvert_exporter": "python",
   "pygments_lexer": "ipython3",
   "version": "3.11.4"
  }
 },
 "nbformat": 4,
 "nbformat_minor": 5
}
