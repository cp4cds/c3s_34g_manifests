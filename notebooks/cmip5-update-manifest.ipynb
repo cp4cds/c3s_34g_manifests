{
 "cells": [
  {
   "cell_type": "markdown",
   "id": "62d59b95-aa02-4a15-af48-956da19d3ae1",
   "metadata": {},
   "source": [
    "# Update cmip5 manifest file from intake catalog"
   ]
  },
  {
   "cell_type": "code",
   "execution_count": 1,
   "id": "744fde95-ba69-4241-b538-67b0f0cb48b7",
   "metadata": {},
   "outputs": [],
   "source": [
    "import intake\n",
    "import pandas as pd\n",
    "import datetime"
   ]
  },
  {
   "cell_type": "code",
   "execution_count": 2,
   "id": "0187c9a7-ed74-4638-bc9d-fde5ae09bdb7",
   "metadata": {},
   "outputs": [
    {
     "data": {
      "text/plain": [
       "['c3s-cmip5',\n",
       " 'c3s-cmip5-daily-pressure-level',\n",
       " 'c3s-cmip5-daily-single-level',\n",
       " 'c3s-cmip5-monthly-pressure-level',\n",
       " 'c3s-cmip5-monthly-single-level',\n",
       " 'c3s-cmip6',\n",
       " 'c3s-cmip6-decadal',\n",
       " 'c3s-cordex',\n",
       " 'c3s-ipcc-atlas',\n",
       " 'c3s-cica-atlas']"
      ]
     },
     "execution_count": 2,
     "metadata": {},
     "output_type": "execute_result"
    }
   ],
   "source": [
    "cat_url = \"https://raw.githubusercontent.com/cp4cds/c3s_34g_manifests/master/intake/catalogs/c3s.yaml\"\n",
    "\n",
    "cat = intake.open_catalog(cat_url)\n",
    "cats = list(cat)\n",
    "cats"
   ]
  },
  {
   "cell_type": "markdown",
   "id": "2f226482-82f2-4e2e-b8da-842d7534ad71",
   "metadata": {},
   "source": [
    "## Update cmip5 manifest"
   ]
  },
  {
   "cell_type": "code",
   "execution_count": 3,
   "id": "a0f7c800-9bcb-4b72-a630-d217c35f5a28",
   "metadata": {},
   "outputs": [],
   "source": [
    "def write_manifest(df, cat_name):\n",
    "    last_updated = datetime.datetime.now(datetime.UTC)\n",
    "    version = last_updated.strftime('%Y%m%d')\n",
    "    manifest_path = f\"../cmip5/manifest_{cat_name}_{version}.txt.gz\"\n",
    "\n",
    "    df.to_csv(manifest_path, columns=[\"url\"], header=False, index=False, compression=\"gzip\")"
   ]
  },
  {
   "cell_type": "code",
   "execution_count": 4,
   "id": "654b45b3-dac0-4364-a275-1cf4d003ffd4",
   "metadata": {},
   "outputs": [
    {
     "name": "stdout",
     "output_type": "stream",
     "text": [
      "c3s-cmip5 https://data.mips.climate.copernicus.eu/thredds/fileServer/esg_c3s-cmip5/output1/BCC/bcc-csm1-1/amip/mon/atmos/Amon/r1i1p1/clt/v20181201/clt_Amon_bcc-csm1-1_amip_r1i1p1_197901-200812.nc\n",
      "c3s-cmip5-daily-pressure-level https://data.mips.climate.copernicus.eu/thredds/fileServer/esg_c3s-cmip5/output1/BCC/bcc-csm1-1/amip/day/atmos/day/r1i1p1/ua/v1/ua_day_bcc-csm1-1_amip_r1i1p1_19790101-19931231.nc\n",
      "c3s-cmip5-daily-single-level https://data.mips.climate.copernicus.eu/thredds/fileServer/esg_c3s-cmip5/output1/BCC/bcc-csm1-1/amip/day/atmos/day/r1i1p1/prsn/v20181201/prsn_day_bcc-csm1-1_amip_r1i1p1_19790101-20081231.nc\n",
      "c3s-cmip5-monthly-pressure-level https://data.mips.climate.copernicus.eu/thredds/fileServer/esg_c3s-cmip5/output1/BCC/bcc-csm1-1/amip/mon/atmos/Amon/r1i1p1/hur/v20181201/hur_Amon_bcc-csm1-1_amip_r1i1p1_197901-200812.nc\n",
      "c3s-cmip5-monthly-single-level https://data.mips.climate.copernicus.eu/thredds/fileServer/esg_c3s-cmip5/output1/BCC/bcc-csm1-1/amip/mon/atmos/Amon/r1i1p1/clt/v20181201/clt_Amon_bcc-csm1-1_amip_r1i1p1_197901-200812.nc\n"
     ]
    }
   ],
   "source": [
    "cds_domain = \"data.mips.climate.copernicus.eu\"\n",
    "base_url = f\"https://{cds_domain}/thredds/fileServer/esg_c3s-cmip5\"\n",
    "\n",
    "for cat_name in cats:\n",
    "    if not \"c3s-cmip5\" in cat_name:\n",
    "        continue\n",
    "    df = cat[cat_name].read()\n",
    "    df[\"url\"] = df[\"path\"].apply(lambda x: f\"{base_url}/{x}\")\n",
    "\n",
    "    print(cat_name, list(df[\"url\"])[0])\n",
    "\n",
    "    write_manifest(df, cat_name)"
   ]
  }
 ],
 "metadata": {
  "kernelspec": {
   "display_name": "Python 3 (ipykernel)",
   "language": "python",
   "name": "python3"
  },
  "language_info": {
   "codemirror_mode": {
    "name": "ipython",
    "version": 3
   },
   "file_extension": ".py",
   "mimetype": "text/x-python",
   "name": "python",
   "nbconvert_exporter": "python",
   "pygments_lexer": "ipython3",
   "version": "3.12.0"
  }
 },
 "nbformat": 4,
 "nbformat_minor": 5
}
