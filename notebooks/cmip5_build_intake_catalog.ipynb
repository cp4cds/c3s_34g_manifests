{
 "cells": [
  {
   "cell_type": "markdown",
   "id": "174dcda9",
   "metadata": {},
   "source": [
    "# CMIP5 build intake catalog\n",
    "\n",
    "Build intake catalog for CMIP5 from manifest files."
   ]
  },
  {
   "cell_type": "code",
   "execution_count": null,
   "id": "63d2593a",
   "metadata": {},
   "outputs": [],
   "source": [
    "import pandas as pd"
   ]
  },
  {
   "cell_type": "markdown",
   "id": "5901f627-32b9-40e2-b312-2df62df45309",
   "metadata": {},
   "source": [
    "## Load manifest"
   ]
  },
  {
   "cell_type": "code",
   "execution_count": null,
   "id": "28e55848",
   "metadata": {},
   "outputs": [],
   "source": [
    "df = pd.read_csv(\"../cmip5/manifest_C3S-34a-Lot1_cmip5-monthly-single-level_http_latest.txt.gz\", names=[\"url\"])\n",
    "df"
   ]
  },
  {
   "cell_type": "code",
   "execution_count": null,
   "id": "b9108beb-3a58-492a-a4f9-a9e57532fd24",
   "metadata": {},
   "outputs": [],
   "source": [
    "df.loc[0][\"url\"]"
   ]
  },
  {
   "cell_type": "markdown",
   "id": "b3456a3d-5760-4097-84d7-581f4174437f",
   "metadata": {},
   "source": [
    "## Build new dataframe"
   ]
  },
  {
   "cell_type": "code",
   "execution_count": null,
   "id": "a8329c4b-d514-41e8-a430-26a18730e8f7",
   "metadata": {},
   "outputs": [],
   "source": [
    "df_new = pd.DataFrame(columns = ['drs_id', 'path'])\n",
    "df_new"
   ]
  },
  {
   "cell_type": "code",
   "execution_count": null,
   "id": "4df653d5-a5f9-4db8-bb55-6642ac3f2711",
   "metadata": {},
   "outputs": [],
   "source": [
    "df_new[\"path\"] = df[\"url\"].str.replace(\"http://data.mips.copernicus-climate.eu/thredds/fileServer/esg_c3s-cmip5/\", \"\", regex=False)\n",
    "df_new"
   ]
  },
  {
   "cell_type": "code",
   "execution_count": null,
   "id": "119b61ef-2551-46d0-a775-9596616e191e",
   "metadata": {},
   "outputs": [],
   "source": [
    "# c3s-cmip5.output1.MPI-M.MPI-ESM-LR.historical.mon.atmos.Amon.r1i1p1.tas.v20120315"
   ]
  },
  {
   "cell_type": "code",
   "execution_count": null,
   "id": "46e3acb6-9435-4ec9-a122-e64f094cd6a6",
   "metadata": {},
   "outputs": [],
   "source": [
    "df_new[\"drs_id\"] = df_new[\"path\"].apply(lambda x: 'c3s-cmip5.' + '.'.join(x.split('/')[0:-1]))\n",
    "df_new"
   ]
  },
  {
   "cell_type": "code",
   "execution_count": null,
   "id": "a9016b7d-2645-4de8-b650-e94ae4dae101",
   "metadata": {},
   "outputs": [],
   "source": [
    "cat_name = f\"c3s-cmip5_v20220421.csv.gz\"\n",
    "cat_path = cat_name\n",
    "\n",
    "df_new.to_csv(cat_path, index=False, compression=\"gzip\")"
   ]
  },
  {
   "cell_type": "markdown",
   "id": "8bfff7cb-7945-4835-aa03-c6959ddd57cd",
   "metadata": {},
   "source": [
    " ## Load catalog"
   ]
  },
  {
   "cell_type": "code",
   "execution_count": null,
   "id": "8dbacca6-56a0-46bf-80d7-6db83bc132b9",
   "metadata": {},
   "outputs": [],
   "source": [
    "df = pd.read_csv(cat_path)\n",
    "df"
   ]
  }
 ],
 "metadata": {
  "kernelspec": {
   "display_name": "Python 3 (ipykernel)",
   "language": "python",
   "name": "python3"
  },
  "language_info": {
   "codemirror_mode": {
    "name": "ipython",
    "version": 3
   },
   "file_extension": ".py",
   "mimetype": "text/x-python",
   "name": "python",
   "nbconvert_exporter": "python",
   "pygments_lexer": "ipython3",
   "version": "3.10.4"
  }
 },
 "nbformat": 4,
 "nbformat_minor": 5
}
