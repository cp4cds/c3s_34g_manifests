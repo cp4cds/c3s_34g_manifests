{
 "cells": [
  {
   "cell_type": "markdown",
   "id": "174dcda9",
   "metadata": {},
   "source": [
    "# CMIP5 build intake catalog\n",
    "\n",
    "Build intake catalog for CMIP5 from manifest files."
   ]
  },
  {
   "cell_type": "code",
   "execution_count": null,
   "id": "63d2593a",
   "metadata": {},
   "outputs": [],
   "source": [
    "import pandas as pd"
   ]
  },
  {
   "cell_type": "markdown",
   "id": "a08119a9-77ad-4f84-854d-57fe7cb42a21",
   "metadata": {},
   "source": [
    "## Load variable description"
   ]
  },
  {
   "cell_type": "code",
   "execution_count": null,
   "id": "69163633-737a-4f68-b240-47c76ce8f42a",
   "metadata": {},
   "outputs": [],
   "source": [
    "import yaml\n",
    "import re"
   ]
  },
  {
   "cell_type": "code",
   "execution_count": null,
   "id": "f153d42e-09ad-4879-bb24-7d07bf9dbf8e",
   "metadata": {},
   "outputs": [],
   "source": [
    "variables = dict()\n",
    "\n",
    "variables_ = yaml.safe_load(open(\"../cmip5/monthly_single-level_variables.yml\"))['variables']\n",
    "variables.update(variables_)\n",
    "\n",
    "variables_ = yaml.safe_load(open(\"../cmip5/monthly_pressure-levels_variables.yml\"))['variables']\n",
    "variables.update(variables_)\n",
    "\n",
    "variables_ = yaml.safe_load(open(\"../cmip5/daily_single-level_variables.yml\"))['variables']\n",
    "variables.update(variables_)\n",
    "\n",
    "variables_ = yaml.safe_load(open(\"../cmip5/daily_pressure_level_variables.yml\"))['variables']\n",
    "variables.update(variables_)\n",
    "\n",
    "variables"
   ]
  },
  {
   "cell_type": "code",
   "execution_count": null,
   "id": "7c5cfa54-33c1-4307-9a8b-ee9dc4975bfc",
   "metadata": {},
   "outputs": [],
   "source": [
    "lookup = dict()\n",
    "pattern = re.compile(r'\\(([\\w]+)\\)')\n",
    "for var in variables:\n",
    "    matches = pattern.findall(var)\n",
    "    if not matches:\n",
    "        continue\n",
    "    short_name = matches[-1]\n",
    "    lookup[short_name] = dict()\n",
    "    lookup[short_name]['variable_name'] = var\n",
    "    lookup[short_name]['units'] = variables[var]['units']\n",
    "    lookup[short_name]['description'] = variables[var]['description']\n",
    "    \n",
    "lookup"
   ]
  },
  {
   "cell_type": "markdown",
   "id": "5901f627-32b9-40e2-b312-2df62df45309",
   "metadata": {},
   "source": [
    "## Load manifest"
   ]
  },
  {
   "cell_type": "code",
   "execution_count": null,
   "id": "b0351aab-cb67-42b8-a4d9-452fa524d3de",
   "metadata": {},
   "outputs": [],
   "source": [
    "df = pd.DataFrame(columns=[\"url\", \"label\"])\n",
    "\n",
    "df_m = pd.read_csv(\"../cmip5/manifest_C3S-34a-Lot1_cmip5-monthly-single-level_http_latest.txt.gz\", names=[\"url\"])\n",
    "df_m[\"label\"] = \"cmip5-monthly-single-level\"\n",
    "df = pd.concat([df, df_m], ignore_index=True)\n",
    "\n",
    "df_m = pd.read_csv(\"../cmip5/manifest_C3S-34a-Lot1_cmip5-monthly-latitude-depth_http_latest.txt.gz\", names=[\"url\"])\n",
    "df_m[\"label\"] = \"mip5-monthly-latitude-depth\"\n",
    "df = pd.concat([df, df_m], ignore_index=True)\n",
    "\n",
    "df_m = pd.read_csv(\"../cmip5/manifest_C3S-34a-Lot1_cmip5-monthly-pressure-level_http_latest.txt.gz\", names=[\"url\"])\n",
    "df_m[\"label\"] = \"cmip5-monthly-pressure-level\"\n",
    "df = pd.concat([df, df_m], ignore_index=True)\n",
    "\n",
    "df_m = pd.read_csv(\"../cmip5/manifest_C3S-34a-Lot1_cmip5-daily-single-level_http_latest.txt.gz\", names=[\"url\"])\n",
    "df_m[\"label\"] = \"cmip5-daily-single-level\"\n",
    "df = pd.concat([df, df_m], ignore_index=True)\n",
    "\n",
    "df_m = pd.read_csv(\"../cmip5/manifest_C3S-34a-Lot1_cmip5-daily-pressure-level_http_latest.txt.gz\", names=[\"url\"])\n",
    "df_m[\"label\"] = \"cmip5-daily-pressure-level\"\n",
    "df = pd.concat([df, df_m], ignore_index=True)\n",
    "\n",
    "df_m = pd.read_csv(\"../cmip5/manifest_C3S-34a-Lot1_cmip5-3hr-single-level_http_latest.txt.gz\", names=[\"url\"])\n",
    "df_m[\"label\"] = \"cmip5-3hr-single-level\"\n",
    "df = pd.concat([df, df_m], ignore_index=True)\n",
    "\n",
    "df"
   ]
  },
  {
   "cell_type": "code",
   "execution_count": null,
   "id": "b9108beb-3a58-492a-a4f9-a9e57532fd24",
   "metadata": {},
   "outputs": [],
   "source": [
    "df.url[0]"
   ]
  },
  {
   "cell_type": "markdown",
   "id": "b3456a3d-5760-4097-84d7-581f4174437f",
   "metadata": {},
   "source": [
    "## Build new dataframe\n"
   ]
  },
  {
   "cell_type": "code",
   "execution_count": null,
   "id": "a8329c4b-d514-41e8-a430-26a18730e8f7",
   "metadata": {
    "tags": []
   },
   "outputs": [],
   "source": [
    "df_new = pd.DataFrame(columns = [\n",
    "    'drs_id', \n",
    "    'path',\n",
    "    'size',\n",
    "    'project',\n",
    "    'product',\n",
    "    'institute',\n",
    "    'model',\n",
    "    'experiment',\n",
    "    'time_frequency',\n",
    "    'realm',\n",
    "    'table',\n",
    "    'ensemble',\n",
    "    'variable',\n",
    "    'version',\n",
    "    'start_time',\n",
    "    'end_time',\n",
    "    'bbox',\n",
    "    'level',\n",
    "    'units',\n",
    "    'variable_name',\n",
    "    'description',\n",
    "    'url',\n",
    "    'label',\n",
    "])\n",
    "df_new"
   ]
  },
  {
   "cell_type": "code",
   "execution_count": null,
   "id": "4df653d5-a5f9-4db8-bb55-6642ac3f2711",
   "metadata": {},
   "outputs": [],
   "source": [
    "df_new[\"path\"] = df[\"url\"].str.replace(\"http://data.mips.copernicus-climate.eu/thredds/fileServer/esg_c3s-cmip5/\", \"\", regex=False)\n",
    "df_new.head()"
   ]
  },
  {
   "cell_type": "code",
   "execution_count": null,
   "id": "119b61ef-2551-46d0-a775-9596616e191e",
   "metadata": {},
   "outputs": [],
   "source": [
    "# c3s-cmip5.output1.MPI-M.MPI-ESM-LR.historical.mon.atmos.Amon.r1i1p1.tas.v20120315"
   ]
  },
  {
   "cell_type": "code",
   "execution_count": null,
   "id": "46e3acb6-9435-4ec9-a122-e64f094cd6a6",
   "metadata": {},
   "outputs": [],
   "source": [
    "df_new[\"drs_id\"] = df_new[\"path\"].apply(lambda x: 'c3s-cmip5.' + '.'.join(x.split('/')[0:-1]))\n",
    "df_new.head()"
   ]
  },
  {
   "cell_type": "code",
   "execution_count": null,
   "id": "6bd36427-8f9e-4a47-8365-5b1f3fa6f8b1",
   "metadata": {},
   "outputs": [],
   "source": [
    "df_new[\"drs_id\"][0].split(\".\")"
   ]
  },
  {
   "cell_type": "code",
   "execution_count": null,
   "id": "35e07480-3265-4435-921a-b368c9ebdd57",
   "metadata": {},
   "outputs": [],
   "source": [
    "df_new['project'] = df_new[\"drs_id\"].apply(lambda x: x.split('.')[0])\n",
    "df_new['product'] = df_new[\"drs_id\"].apply(lambda x: x.split('.')[1])\n",
    "df_new['institute'] = df_new[\"drs_id\"].apply(lambda x: x.split('.')[2])\n",
    "df_new['model'] = df_new[\"drs_id\"].apply(lambda x: x.split('.')[3])\n",
    "df_new['experiment'] = df_new[\"drs_id\"].apply(lambda x: x.split('.')[4])\n",
    "df_new['time_frequency'] = df_new[\"drs_id\"].apply(lambda x: x.split('.')[5])\n",
    "df_new['realm'] = df_new[\"drs_id\"].apply(lambda x: x.split('.')[6])\n",
    "df_new['table'] = df_new[\"drs_id\"].apply(lambda x: x.split('.')[7])\n",
    "df_new['ensemble'] = df_new[\"drs_id\"].apply(lambda x: x.split('.')[8])\n",
    "df_new['variable'] = df_new[\"drs_id\"].apply(lambda x: x.split('.')[9])\n",
    "df_new['version'] = df_new[\"drs_id\"].apply(lambda x: x.split('.')[10])\n",
    "df_new['variable_name'] = df_new[\"variable\"].apply(lambda x: lookup.get(x, {}).get('variable_name'))\n",
    "df_new['units'] = df_new[\"variable\"].apply(lambda x: lookup.get(x, {}).get('units'))\n",
    "df_new['description'] = df_new[\"variable\"].apply(lambda x: lookup.get(x, {}).get('description'))\n",
    "df_new['url'] = df[\"url\"].apply(lambda x: x)\n",
    "df_new['label'] = df[\"label\"].apply(lambda x: x)\n",
    "df_new.head()"
   ]
  },
  {
   "cell_type": "code",
   "execution_count": null,
   "id": "f713b060-88eb-4ae3-a45a-abb92a00b379",
   "metadata": {},
   "outputs": [],
   "source": [
    "from datetime import datetime\n",
    "import calendar\n",
    "\n",
    "def parse_time(filename):\n",
    "    time_part = filename.split(\"_\")[-1].split(\".nc\")[0]\n",
    "    if \"-\" not in time_part:\n",
    "        return None, None\n",
    "    start, end = time_part.split(\"-\")\n",
    "    if len(start) == 12:\n",
    "        format = \"%Y%m%d%H%M\"\n",
    "    elif len(start) == 8:\n",
    "        format = \"%Y%m%d\"\n",
    "    elif len(start) == 6:\n",
    "        format = \"%Y%m\"\n",
    "    start_time = datetime.strptime(start, format)\n",
    "    if len(start) == 6:\n",
    "        start_time = datetime(start_time.year, start_time.month, 1, 12)\n",
    "    elif len(start) == 8:\n",
    "        start_time = datetime(start_time.year, start_time.month, start_time.day, 12)\n",
    "    end_time = datetime.strptime(end, format)\n",
    "    if len(end) == 6:\n",
    "        end_time = datetime(end_time.year, end_time.month, calendar.monthrange(end_time.year, end_time.month)[1], 12)\n",
    "    elif len(end) == 8:\n",
    "        end_time = datetime(end_time.year, end_time.month, end_time.day, 12)\n",
    "    return start_time.isoformat(), end_time.isoformat()"
   ]
  },
  {
   "cell_type": "code",
   "execution_count": null,
   "id": "1e0cb28c-0812-4e9c-a210-e53d741918bc",
   "metadata": {},
   "outputs": [],
   "source": [
    "df_new[\"path\"][0].split(\"/\")[-1]"
   ]
  },
  {
   "cell_type": "code",
   "execution_count": null,
   "id": "e84c90f0-4fed-41b8-801e-1bcee6ced62d",
   "metadata": {},
   "outputs": [],
   "source": [
    "df_new['start_time'] = df_new[\"path\"].apply(lambda x: parse_time(x.split('/')[-1])[0])\n",
    "df_new['end_time'] = df_new[\"path\"].apply(lambda x: parse_time(x.split('/')[-1])[1])\n",
    "df_new.head()"
   ]
  },
  {
   "cell_type": "markdown",
   "id": "fbc5b34f-e442-48b8-b87e-c880de567258",
   "metadata": {},
   "source": [
    "## Write catalog"
   ]
  },
  {
   "cell_type": "code",
   "execution_count": null,
   "id": "a9016b7d-2645-4de8-b650-e94ae4dae101",
   "metadata": {},
   "outputs": [],
   "source": [
    "last_updated = datetime.now().utcnow()\n",
    "version = last_updated.strftime('v%Y%m%d')\n",
    "cat_name = f\"c3s-cmip5_{version}.csv.gz\"\n",
    "cat_path = f\"../intake/catalogs/c3s-cmip5/{cat_name}\"\n",
    "\n",
    "df_new.to_csv(cat_path, index=False, compression=\"gzip\")"
   ]
  },
  {
   "cell_type": "markdown",
   "id": "8bfff7cb-7945-4835-aa03-c6959ddd57cd",
   "metadata": {},
   "source": [
    " ## Load catalog"
   ]
  },
  {
   "cell_type": "code",
   "execution_count": null,
   "id": "8dbacca6-56a0-46bf-80d7-6db83bc132b9",
   "metadata": {},
   "outputs": [],
   "source": [
    "df_c = pd.read_csv(cat_path)\n",
    "df_c"
   ]
  },
  {
   "cell_type": "code",
   "execution_count": null,
   "id": "3b205f44-2c79-47b9-a472-0664b3534c7c",
   "metadata": {},
   "outputs": [],
   "source": [
    "df_c.nunique()"
   ]
  },
  {
   "cell_type": "markdown",
   "id": "fe4d550a-47bb-496f-8bd8-cd80120e03f0",
   "metadata": {},
   "source": [
    "## Load intake"
   ]
  },
  {
   "cell_type": "code",
   "execution_count": null,
   "id": "0617251d-54ed-476b-9768-f9a85110e4bc",
   "metadata": {},
   "outputs": [],
   "source": [
    "import intake"
   ]
  },
  {
   "cell_type": "code",
   "execution_count": null,
   "id": "ea0533c4-e1dc-450e-80a5-f56fe26407f5",
   "metadata": {},
   "outputs": [],
   "source": [
    "cat_url = \"https://raw.githubusercontent.com/cp4cds/c3s_34g_manifests/master/intake/catalogs/c3s.yaml\"\n",
    "# cat_url = \"https://github.com/cehbrecht/c3s_34g_manifests/raw/dev-cmip5/intake/catalogs/c3s.yaml\"\n",
    "cat = intake.open_catalog(cat_url)\n",
    "list(cat)"
   ]
  },
  {
   "cell_type": "code",
   "execution_count": null,
   "id": "bc69c0a4-976b-4c68-998a-d3e3dd9cb655",
   "metadata": {},
   "outputs": [],
   "source": [
    "df_cmip5 = cat['c3s-cmip5'].read()\n",
    "df_cmip5"
   ]
  },
  {
   "cell_type": "code",
   "execution_count": null,
   "id": "bb006a03-6800-4353-8870-297ab66d9b06",
   "metadata": {},
   "outputs": [],
   "source": [
    "df_cmip5.nunique()"
   ]
  }
 ],
 "metadata": {
  "kernelspec": {
   "display_name": "Python 3 (ipykernel)",
   "language": "python",
   "name": "python3"
  },
  "language_info": {
   "codemirror_mode": {
    "name": "ipython",
    "version": 3
   },
   "file_extension": ".py",
   "mimetype": "text/x-python",
   "name": "python",
   "nbconvert_exporter": "python",
   "pygments_lexer": "ipython3",
   "version": "3.10.4"
  }
 },
 "nbformat": 4,
 "nbformat_minor": 5
}
