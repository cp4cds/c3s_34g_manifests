{
 "cells": [
  {
   "cell_type": "markdown",
   "id": "174dcda9",
   "metadata": {},
   "source": [
    "# CMIP5 build intake catalog\n",
    "\n",
    "Build intake catalog for CMIP5 from manifest files."
   ]
  },
  {
   "cell_type": "code",
   "execution_count": null,
   "id": "63d2593a",
   "metadata": {},
   "outputs": [],
   "source": [
    "import pandas as pd"
   ]
  },
  {
   "cell_type": "markdown",
   "id": "5901f627-32b9-40e2-b312-2df62df45309",
   "metadata": {},
   "source": [
    "## Load manifest"
   ]
  },
  {
   "cell_type": "code",
   "execution_count": null,
   "id": "28e55848",
   "metadata": {},
   "outputs": [],
   "source": [
    "df = pd.read_csv(\"../cmip5/manifest_C3S-34a-Lot1_cmip5-monthly-single-level_http_latest.txt.gz\", names=[\"url\"])\n",
    "df"
   ]
  },
  {
   "cell_type": "code",
   "execution_count": null,
   "id": "b9108beb-3a58-492a-a4f9-a9e57532fd24",
   "metadata": {},
   "outputs": [],
   "source": [
    "df.loc[0][\"url\"]"
   ]
  },
  {
   "cell_type": "markdown",
   "id": "b3456a3d-5760-4097-84d7-581f4174437f",
   "metadata": {},
   "source": [
    "## Build new dataframe"
   ]
  },
  {
   "cell_type": "code",
   "execution_count": null,
   "id": "a8329c4b-d514-41e8-a430-26a18730e8f7",
   "metadata": {},
   "outputs": [],
   "source": [
    "df_new = pd.DataFrame(columns = [\n",
    "    'drs_id', \n",
    "    'path',\n",
    "    'size',\n",
    "    'project',\n",
    "    'product',\n",
    "    'institute',\n",
    "    'model',\n",
    "    'experiment',\n",
    "    'ensemble',\n",
    "    'time_frequency',\n",
    "    'variable',\n",
    "    'version',\n",
    "    'start_time',\n",
    "    'end_time',\n",
    "    'bbox',\n",
    "    'level',\n",
    "])\n",
    "df_new"
   ]
  },
  {
   "cell_type": "code",
   "execution_count": null,
   "id": "4df653d5-a5f9-4db8-bb55-6642ac3f2711",
   "metadata": {},
   "outputs": [],
   "source": [
    "df_new[\"path\"] = df[\"url\"].str.replace(\"http://data.mips.copernicus-climate.eu/thredds/fileServer/esg_c3s-cmip5/\", \"\", regex=False)\n",
    "df_new.head()"
   ]
  },
  {
   "cell_type": "code",
   "execution_count": null,
   "id": "119b61ef-2551-46d0-a775-9596616e191e",
   "metadata": {},
   "outputs": [],
   "source": [
    "# c3s-cmip5.output1.MPI-M.MPI-ESM-LR.historical.mon.atmos.Amon.r1i1p1.tas.v20120315"
   ]
  },
  {
   "cell_type": "code",
   "execution_count": null,
   "id": "46e3acb6-9435-4ec9-a122-e64f094cd6a6",
   "metadata": {},
   "outputs": [],
   "source": [
    "df_new[\"drs_id\"] = df_new[\"path\"].apply(lambda x: 'c3s-cmip5.' + '.'.join(x.split('/')[0:-1]))\n",
    "df_new.head()"
   ]
  },
  {
   "cell_type": "code",
   "execution_count": null,
   "id": "6bd36427-8f9e-4a47-8365-5b1f3fa6f8b1",
   "metadata": {},
   "outputs": [],
   "source": [
    "df_new[\"drs_id\"][0].split(\".\")"
   ]
  },
  {
   "cell_type": "code",
   "execution_count": null,
   "id": "35e07480-3265-4435-921a-b368c9ebdd57",
   "metadata": {},
   "outputs": [],
   "source": [
    "df_new['project'] = df_new[\"drs_id\"].apply(lambda x: x.split('.')[0])\n",
    "df_new['product'] = df_new[\"drs_id\"].apply(lambda x: x.split('.')[1])\n",
    "df_new['institute'] = df_new[\"drs_id\"].apply(lambda x: x.split('.')[2])\n",
    "df_new['model'] = df_new[\"drs_id\"].apply(lambda x: x.split('.')[3])\n",
    "df_new['experiment'] = df_new[\"drs_id\"].apply(lambda x: x.split('.')[4])\n",
    "df_new['time_frequency'] = df_new[\"drs_id\"].apply(lambda x: x.split('.')[5])\n",
    "df_new['ensemble'] = df_new[\"drs_id\"].apply(lambda x: x.split('.')[8])\n",
    "df_new['variable'] = df_new[\"drs_id\"].apply(lambda x: x.split('.')[9])\n",
    "df_new['version'] = df_new[\"drs_id\"].apply(lambda x: x.split('.')[10])\n",
    "df_new.head()"
   ]
  },
  {
   "cell_type": "code",
   "execution_count": null,
   "id": "f713b060-88eb-4ae3-a45a-abb92a00b379",
   "metadata": {},
   "outputs": [],
   "source": [
    "from dateutil.parser import parse\n",
    "\n",
    "def parse_time(filename):\n",
    "    time_part = filename.split(\"_\")[-1].split(\".nc\")[0]\n",
    "    if \"-\" not in time_part:\n",
    "        return None, None\n",
    "    start, end = time_part.split(\"-\")\n",
    "    # start year\n",
    "    start_time = parse(f\"{start[0:3]}/{start[4:5]}\")\n",
    "    # end year\n",
    "    end_time = parse(end)\n",
    "    return start_time, end_time"
   ]
  },
  {
   "cell_type": "code",
   "execution_count": null,
   "id": "a0f4b4bb-7244-47b8-8c38-1abe66209321",
   "metadata": {},
   "outputs": [],
   "source": [
    "parse(\"1997/01/01\", yearfirst=True)"
   ]
  },
  {
   "cell_type": "code",
   "execution_count": null,
   "id": "1e0cb28c-0812-4e9c-a210-e53d741918bc",
   "metadata": {},
   "outputs": [],
   "source": [
    "df_new[\"path\"][0].split(\"/\")[-1]"
   ]
  },
  {
   "cell_type": "code",
   "execution_count": null,
   "id": "e84c90f0-4fed-41b8-801e-1bcee6ced62d",
   "metadata": {},
   "outputs": [],
   "source": [
    "#df_new['start_time'] = df_new[\"path\"].apply(lambda x: parse_time(x.split('/')[-1])[0])\n",
    "#df_new['end_time'] = df_new[\"path\"].apply(lambda x: parse_time(x.split('/')[-1])[1])\n",
    "df_new.head()"
   ]
  },
  {
   "cell_type": "code",
   "execution_count": null,
   "id": "a9016b7d-2645-4de8-b650-e94ae4dae101",
   "metadata": {},
   "outputs": [],
   "source": [
    "cat_name = f\"c3s-cmip5_v20220422.csv.gz\"\n",
    "cat_path = f\"/tmp/{cat_name}\"\n",
    "\n",
    "df_new.to_csv(cat_path, index=False, compression=\"gzip\")"
   ]
  },
  {
   "cell_type": "markdown",
   "id": "8bfff7cb-7945-4835-aa03-c6959ddd57cd",
   "metadata": {},
   "source": [
    " ## Load catalog"
   ]
  },
  {
   "cell_type": "code",
   "execution_count": null,
   "id": "8dbacca6-56a0-46bf-80d7-6db83bc132b9",
   "metadata": {},
   "outputs": [],
   "source": [
    "df = pd.read_csv(cat_path)\n",
    "df.head()"
   ]
  }
 ],
 "metadata": {
  "kernelspec": {
   "display_name": "Python 3 (ipykernel)",
   "language": "python",
   "name": "python3"
  },
  "language_info": {
   "codemirror_mode": {
    "name": "ipython",
    "version": 3
   },
   "file_extension": ".py",
   "mimetype": "text/x-python",
   "name": "python",
   "nbconvert_exporter": "python",
   "pygments_lexer": "ipython3",
   "version": "3.10.4"
  }
 },
 "nbformat": 4,
 "nbformat_minor": 5
}
