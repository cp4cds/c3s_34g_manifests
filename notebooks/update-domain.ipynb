{
 "cells": [
  {
   "cell_type": "markdown",
   "id": "62d59b95-aa02-4a15-af48-956da19d3ae1",
   "metadata": {},
   "source": [
    "# Intake Catalog"
   ]
  },
  {
   "cell_type": "code",
   "execution_count": 1,
   "id": "744fde95-ba69-4241-b538-67b0f0cb48b7",
   "metadata": {},
   "outputs": [],
   "source": [
    "import intake\n",
    "import pandas as pd\n",
    "import datetime"
   ]
  },
  {
   "cell_type": "code",
   "execution_count": 2,
   "id": "0187c9a7-ed74-4638-bc9d-fde5ae09bdb7",
   "metadata": {},
   "outputs": [
    {
     "data": {
      "text/plain": [
       "['c3s-cmip5',\n",
       " 'c3s-cmip5-daily-pressure-level',\n",
       " 'c3s-cmip5-daily-single-level',\n",
       " 'c3s-cmip5-monthly-pressure-level',\n",
       " 'c3s-cmip5-monthly-single-level',\n",
       " 'c3s-cmip6',\n",
       " 'c3s-cmip6-decadal',\n",
       " 'c3s-cordex',\n",
       " 'c3s-ipcc-atlas',\n",
       " 'c3s-cica-atlas']"
      ]
     },
     "execution_count": 2,
     "metadata": {},
     "output_type": "execute_result"
    }
   ],
   "source": [
    "cat_url = \"https://raw.githubusercontent.com/cp4cds/c3s_34g_manifests/master/intake/catalogs/c3s.yaml\"\n",
    "\n",
    "cat = intake.open_catalog(cat_url)\n",
    "cats = list(cat)\n",
    "cats"
   ]
  },
  {
   "cell_type": "markdown",
   "id": "b38a0670-afb4-4561-a866-2e1630c7427e",
   "metadata": {},
   "source": [
    "## Update all catalogs"
   ]
  },
  {
   "cell_type": "code",
   "execution_count": 3,
   "id": "1a185cec-5fbe-4da9-b41d-ea89049921be",
   "metadata": {},
   "outputs": [],
   "source": [
    "map_cat_dir = {\n",
    "    'c3s-cmip5': 'c3s-cmip5',\n",
    "    'c3s-cmip5-daily-pressure-level': 'c3s-cmip5',\n",
    "    'c3s-cmip5-daily-single-level': 'c3s-cmip5',\n",
    "    'c3s-cmip5-monthly-pressure-level': 'c3s-cmip5',\n",
    "    'c3s-cmip5-monthly-single-level': 'c3s-cmip5',\n",
    "    'c3s-cmip6': 'c3s-cmip6',\n",
    "    'c3s-cmip6-decadal': 'c3s-cmip6-decadal',\n",
    "    'c3s-cordex': 'c3s-cordex',\n",
    "    'c3s-ipcc-atlas': 'c3s-atlas',\n",
    "    'c3s-cica-atlas': 'c3s-atlas'\n",
    "}\n",
    "\n",
    "def write_catalog(df, name):\n",
    "    last_updated = datetime.datetime.now(datetime.UTC)\n",
    "    version = last_updated.strftime('v%Y%m%d')\n",
    "    cat_name = f\"{name}_{version}.csv.gz\"\n",
    "    cat_dir = map_cat_dir[name]\n",
    "    cat_path = f\"../intake/catalogs/{cat_dir}/{cat_name}\"\n",
    "    df.to_csv(cat_path, index=False, compression=\"gzip\")"
   ]
  },
  {
   "cell_type": "code",
   "execution_count": 4,
   "id": "e6b1f72a-c234-45ae-a0da-34dd2dd6c591",
   "metadata": {},
   "outputs": [
    {
     "name": "stdout",
     "output_type": "stream",
     "text": [
      "\n",
      "c3s-cmip5:\n",
      "output1/BCC/bcc-csm1-1/amip/mon/atmos/Amon/r1i1p1/clt/v20181201/clt_Amon_bcc-csm1-1_amip_r1i1p1_197901-200812.nc\n",
      "old: https://data.mips.copernicus-climate.eu/thredds/fileServer/esg_c3s-cmip5/output1/BCC/bcc-csm1-1/amip/mon/atmos/Amon/r1i1p1/clt/v20181201/clt_Amon_bcc-csm1-1_amip_r1i1p1_197901-200812.nc\n",
      "new: https://data.mips.climate.copernicus.eu/thredds/fileServer/esg_c3s-cmip5/output1/BCC/bcc-csm1-1/amip/mon/atmos/Amon/r1i1p1/clt/v20181201/clt_Amon_bcc-csm1-1_amip_r1i1p1_197901-200812.nc\n",
      "\n",
      "c3s-cmip5-daily-pressure-level:\n",
      "output1/BCC/bcc-csm1-1/amip/day/atmos/day/r1i1p1/ua/v1/ua_day_bcc-csm1-1_amip_r1i1p1_19790101-19931231.nc\n",
      "old: https://data.mips.copernicus-climate.eu/thredds/fileServer/esg_c3s-cmip5/output1/BCC/bcc-csm1-1/amip/day/atmos/day/r1i1p1/ua/v1/ua_day_bcc-csm1-1_amip_r1i1p1_19790101-19931231.nc\n",
      "new: https://data.mips.climate.copernicus.eu/thredds/fileServer/esg_c3s-cmip5/output1/BCC/bcc-csm1-1/amip/day/atmos/day/r1i1p1/ua/v1/ua_day_bcc-csm1-1_amip_r1i1p1_19790101-19931231.nc\n",
      "\n",
      "c3s-cmip5-daily-single-level:\n",
      "output1/BCC/bcc-csm1-1/amip/day/atmos/day/r1i1p1/prsn/v20181201/prsn_day_bcc-csm1-1_amip_r1i1p1_19790101-20081231.nc\n",
      "old: https://data.mips.copernicus-climate.eu/thredds/fileServer/esg_c3s-cmip5/output1/BCC/bcc-csm1-1/amip/day/atmos/day/r1i1p1/prsn/v20181201/prsn_day_bcc-csm1-1_amip_r1i1p1_19790101-20081231.nc\n",
      "new: https://data.mips.climate.copernicus.eu/thredds/fileServer/esg_c3s-cmip5/output1/BCC/bcc-csm1-1/amip/day/atmos/day/r1i1p1/prsn/v20181201/prsn_day_bcc-csm1-1_amip_r1i1p1_19790101-20081231.nc\n",
      "\n",
      "c3s-cmip5-monthly-pressure-level:\n",
      "output1/BCC/bcc-csm1-1/amip/mon/atmos/Amon/r1i1p1/hur/v20181201/hur_Amon_bcc-csm1-1_amip_r1i1p1_197901-200812.nc\n",
      "old: https://data.mips.copernicus-climate.eu/thredds/fileServer/esg_c3s-cmip5/output1/BCC/bcc-csm1-1/amip/mon/atmos/Amon/r1i1p1/hur/v20181201/hur_Amon_bcc-csm1-1_amip_r1i1p1_197901-200812.nc\n",
      "new: https://data.mips.climate.copernicus.eu/thredds/fileServer/esg_c3s-cmip5/output1/BCC/bcc-csm1-1/amip/mon/atmos/Amon/r1i1p1/hur/v20181201/hur_Amon_bcc-csm1-1_amip_r1i1p1_197901-200812.nc\n",
      "\n",
      "c3s-cmip5-monthly-single-level:\n",
      "output1/BCC/bcc-csm1-1/amip/mon/atmos/Amon/r1i1p1/clt/v20181201/clt_Amon_bcc-csm1-1_amip_r1i1p1_197901-200812.nc\n",
      "old: https://data.mips.copernicus-climate.eu/thredds/fileServer/esg_c3s-cmip5/output1/BCC/bcc-csm1-1/amip/mon/atmos/Amon/r1i1p1/clt/v20181201/clt_Amon_bcc-csm1-1_amip_r1i1p1_197901-200812.nc\n",
      "new: https://data.mips.climate.copernicus.eu/thredds/fileServer/esg_c3s-cmip5/output1/BCC/bcc-csm1-1/amip/mon/atmos/Amon/r1i1p1/clt/v20181201/clt_Amon_bcc-csm1-1_amip_r1i1p1_197901-200812.nc\n",
      "\n",
      "c3s-cmip6:\n",
      "ScenarioMIP/MOHC/UKESM1-0-LL/ssp245/r1i1p1f2/Amon/ts/gn/v20190507/ts_Amon_UKESM1-0-LL_ssp245_r1i1p1f2_gn_201501-204912.nc\n",
      "\n",
      "c3s-cmip6-decadal:\n",
      "DCPP/MPI-M/MPI-ESM1-2-HR/dcppA-hindcast/s2016-r8i1p1f1/day/tasmax/gn/v20210111/tasmax_day_MPI-ESM1-2-HR_dcppA-hindcast_s2016-r8i1p1f1_gn_20161101-20261231.nc\n",
      "\n",
      "c3s-cordex:\n",
      "output/EAS-44/CLMcom/CNRM-CERFACS-CNRM-CM5/rcp45/r1i1p1/CLMcom-CCLM5-0-2/v1/day/huss/v20201215/huss_EAS-44_CNRM-CERFACS-CNRM-CM5_rcp45_r1i1p1_CLMcom-CCLM5-0-2_v1_day_20060101-20101231.nc\n",
      "\n",
      "c3s-ipcc-atlas:\n",
      "CMIP5/rcp45/fd_CMIP5_rcp45_mon_200601-210012.nc\n",
      "\n",
      "c3s-cica-atlas:\n",
      "CMIP5/historical/pr_CMIP5_historical_mon_185001-200512.nc\n",
      "old: https://data.mips.copernicus-climate.eu/thredds/fileServer/esg_c3s-cica-atlas/CMIP5/historical/pr_CMIP5_historical_mon_185001-200512.nc\n",
      "new: https://data.mips.climate.copernicus.eu/thredds/fileServer/esg_c3s-cica-atlas/CMIP5/historical/pr_CMIP5_historical_mon_185001-200512.nc\n"
     ]
    }
   ],
   "source": [
    "old_domain = \"data.mips.copernicus-climate.eu\"\n",
    "new_domain = \"data.mips.climate.copernicus.eu\"\n",
    "\n",
    "for cat_name in cats:\n",
    "    df = cat[cat_name].read()\n",
    "    print(f\"\\n{cat_name}:\")\n",
    "    # print(df.nunique())\n",
    "    print(df.path[0])\n",
    "    if 'url' in df:\n",
    "        print(f\"old: {df.url[0]}\")\n",
    "        # replace old domain by new one\n",
    "        df[\"url\"] = df[\"url\"].apply(lambda x: x.replace(old_domain, new_domain))\n",
    "        print(f\"new: {df.url[0]}\")\n",
    "        write_catalog(df, cat_name)"
   ]
  }
 ],
 "metadata": {
  "kernelspec": {
   "display_name": "Python 3 (ipykernel)",
   "language": "python",
   "name": "python3"
  },
  "language_info": {
   "codemirror_mode": {
    "name": "ipython",
    "version": 3
   },
   "file_extension": ".py",
   "mimetype": "text/x-python",
   "name": "python",
   "nbconvert_exporter": "python",
   "pygments_lexer": "ipython3",
   "version": "3.12.0"
  }
 },
 "nbformat": 4,
 "nbformat_minor": 5
}
