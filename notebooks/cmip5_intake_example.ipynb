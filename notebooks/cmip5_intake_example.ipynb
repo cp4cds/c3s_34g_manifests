{
 "cells": [
  {
   "cell_type": "markdown",
   "id": "fee46de3-0fd4-450e-8f7e-de13467fb4d8",
   "metadata": {},
   "source": [
    "# CMIP5 intake catalogs"
   ]
  },
  {
   "cell_type": "code",
   "execution_count": null,
   "id": "6bbd6b6b-f220-4ec7-b774-741f9ff4ce48",
   "metadata": {},
   "outputs": [],
   "source": [
    "import intake\n",
    "import pandas as pd"
   ]
  },
  {
   "cell_type": "code",
   "execution_count": null,
   "id": "14353ade-47d6-4c52-9a7e-c701d46b1ae0",
   "metadata": {},
   "outputs": [],
   "source": [
    "cat_url = \"https://raw.githubusercontent.com/cp4cds/c3s_34g_manifests/master/intake/catalogs/c3s.yaml\"\n",
    "\n",
    "cat = intake.open_catalog(cat_url)\n",
    "list(cat)"
   ]
  },
  {
   "cell_type": "markdown",
   "id": "2eff6f00-7bd2-447b-907b-cda826bb0f25",
   "metadata": {},
   "source": [
    "## Load combined cmip5 catalog"
   ]
  },
  {
   "cell_type": "code",
   "execution_count": null,
   "id": "02e61b8d-21e1-4b47-bf73-d199a1cdb9f2",
   "metadata": {},
   "outputs": [],
   "source": [
    "df_cmip5 = cat['c3s-cmip5'].read()\n",
    "df_cmip5"
   ]
  },
  {
   "cell_type": "code",
   "execution_count": null,
   "id": "e8761c6d-64b7-41f6-ab5a-1f75874fb2bb",
   "metadata": {},
   "outputs": [],
   "source": [
    "df_cmip5.nunique()"
   ]
  },
  {
   "cell_type": "markdown",
   "id": "8a0f2c0a-1836-4c0c-b723-29df1e52e995",
   "metadata": {},
   "source": [
    "## Load CMIP5 daily pressure "
   ]
  },
  {
   "cell_type": "code",
   "execution_count": null,
   "id": "fa1fa11b-17fb-436c-ae00-959e3fc8026f",
   "metadata": {},
   "outputs": [],
   "source": [
    "df_cmip5_daily_pressure = cat['c3s-cmip5-daily-pressure-level'].read()\n",
    "df_cmip5_daily_pressure"
   ]
  },
  {
   "cell_type": "code",
   "execution_count": null,
   "id": "deeeae43-0313-4ea5-8786-886807f0cf27",
   "metadata": {},
   "outputs": [],
   "source": [
    "df_cmip5_daily_pressure.nunique()"
   ]
  },
  {
   "cell_type": "markdown",
   "id": "a4719ebe-dd1b-4f7d-b3b7-abdd1385333c",
   "metadata": {},
   "source": [
    "## Load CMIP5 daily single"
   ]
  },
  {
   "cell_type": "code",
   "execution_count": null,
   "id": "fd2f67dd-1905-4cff-92e0-3b9c2e779cd5",
   "metadata": {},
   "outputs": [],
   "source": [
    "df_cmip5_daily_single = cat['c3s-cmip5-daily-single-level'].read()\n",
    "df_cmip5_daily_single"
   ]
  },
  {
   "cell_type": "code",
   "execution_count": null,
   "id": "dd048966-4e86-4d50-ad06-3972facb69f0",
   "metadata": {},
   "outputs": [],
   "source": [
    "df_cmip5_daily_single.nunique()"
   ]
  },
  {
   "cell_type": "markdown",
   "id": "80fdb252-0643-47ff-a270-5f537804f559",
   "metadata": {},
   "source": [
    "## Load CMIP5 monthly pressure "
   ]
  },
  {
   "cell_type": "code",
   "execution_count": null,
   "id": "984f71a5-ea07-4412-8326-406a662c66ec",
   "metadata": {},
   "outputs": [],
   "source": [
    "df_cmip5_monthly_pressure = cat['c3s-cmip5-monthly-pressure-level'].read()\n",
    "df_cmip5_monthly_pressure"
   ]
  },
  {
   "cell_type": "code",
   "execution_count": null,
   "id": "ff8292d2-5c24-44b1-beac-167cefbf3999",
   "metadata": {},
   "outputs": [],
   "source": [
    "df_cmip5_monthly_pressure.nunique()"
   ]
  },
  {
   "cell_type": "markdown",
   "id": "5b09d461-903f-4d27-b7e8-1f1e225abcb5",
   "metadata": {},
   "source": [
    "## Load CMIP5 monthly single"
   ]
  },
  {
   "cell_type": "code",
   "execution_count": null,
   "id": "be0bb2f7-d905-4794-a553-7f9c2d3907a8",
   "metadata": {},
   "outputs": [],
   "source": [
    "df_cmip5_monthly_single = cat['c3s-cmip5-monthly-single-level'].read()\n",
    "df_cmip5_monthly_single"
   ]
  },
  {
   "cell_type": "code",
   "execution_count": null,
   "id": "6fad544a-ddc4-4815-8335-5d4a13480071",
   "metadata": {},
   "outputs": [],
   "source": [
    "df_cmip5_monthly_single.nunique()"
   ]
  }
 ],
 "metadata": {
  "kernelspec": {
   "display_name": "Python 3 (ipykernel)",
   "language": "python",
   "name": "python3"
  },
  "language_info": {
   "codemirror_mode": {
    "name": "ipython",
    "version": 3
   },
   "file_extension": ".py",
   "mimetype": "text/x-python",
   "name": "python",
   "nbconvert_exporter": "python",
   "pygments_lexer": "ipython3",
   "version": "3.10.4"
  }
 },
 "nbformat": 4,
 "nbformat_minor": 5
}
