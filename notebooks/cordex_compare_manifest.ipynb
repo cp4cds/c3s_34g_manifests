{
 "cells": [
  {
   "cell_type": "markdown",
   "id": "46a92150",
   "metadata": {
    "tags": []
   },
   "source": [
    "# Compare CORDEX manifest"
   ]
  },
  {
   "cell_type": "markdown",
   "id": "99769d65",
   "metadata": {},
   "source": [
    "## compare path"
   ]
  },
  {
   "cell_type": "code",
   "execution_count": 1,
   "id": "b2d7dad2",
   "metadata": {
    "tags": []
   },
   "outputs": [],
   "source": [
    "import pandas as pd"
   ]
  },
  {
   "cell_type": "code",
   "execution_count": 2,
   "id": "fd6ab8bc",
   "metadata": {
    "tags": []
   },
   "outputs": [
    {
     "data": {
      "text/html": [
       "<div>\n",
       "<style scoped>\n",
       "    .dataframe tbody tr th:only-of-type {\n",
       "        vertical-align: middle;\n",
       "    }\n",
       "\n",
       "    .dataframe tbody tr th {\n",
       "        vertical-align: top;\n",
       "    }\n",
       "\n",
       "    .dataframe thead th {\n",
       "        text-align: right;\n",
       "    }\n",
       "</style>\n",
       "<table border=\"1\" class=\"dataframe\">\n",
       "  <thead>\n",
       "    <tr style=\"text-align: right;\">\n",
       "      <th></th>\n",
       "      <th>size</th>\n",
       "      <th>path</th>\n",
       "    </tr>\n",
       "  </thead>\n",
       "  <tbody>\n",
       "    <tr>\n",
       "      <th>0</th>\n",
       "      <td>149174995</td>\n",
       "      <td>C3S-CORDEX/output/AFR-22/CCCma/CCCma-CanESM2/h...</td>\n",
       "    </tr>\n",
       "    <tr>\n",
       "      <th>1</th>\n",
       "      <td>746917232</td>\n",
       "      <td>C3S-CORDEX/output/AFR-22/CCCma/CCCma-CanESM2/h...</td>\n",
       "    </tr>\n",
       "    <tr>\n",
       "      <th>2</th>\n",
       "      <td>746064628</td>\n",
       "      <td>C3S-CORDEX/output/AFR-22/CCCma/CCCma-CanESM2/h...</td>\n",
       "    </tr>\n",
       "    <tr>\n",
       "      <th>3</th>\n",
       "      <td>749956475</td>\n",
       "      <td>C3S-CORDEX/output/AFR-22/CCCma/CCCma-CanESM2/h...</td>\n",
       "    </tr>\n",
       "    <tr>\n",
       "      <th>4</th>\n",
       "      <td>748258546</td>\n",
       "      <td>C3S-CORDEX/output/AFR-22/CCCma/CCCma-CanESM2/h...</td>\n",
       "    </tr>\n",
       "    <tr>\n",
       "      <th>...</th>\n",
       "      <td>...</td>\n",
       "      <td>...</td>\n",
       "    </tr>\n",
       "    <tr>\n",
       "      <th>582415</th>\n",
       "      <td>89610949</td>\n",
       "      <td>C3S-CORDEX/output/WAS-44/SMHI/NOAA-GFDL-GFDL-E...</td>\n",
       "    </tr>\n",
       "    <tr>\n",
       "      <th>582416</th>\n",
       "      <td>89290540</td>\n",
       "      <td>C3S-CORDEX/output/WAS-44/SMHI/NOAA-GFDL-GFDL-E...</td>\n",
       "    </tr>\n",
       "    <tr>\n",
       "      <th>582417</th>\n",
       "      <td>89200697</td>\n",
       "      <td>C3S-CORDEX/output/WAS-44/SMHI/NOAA-GFDL-GFDL-E...</td>\n",
       "    </tr>\n",
       "    <tr>\n",
       "      <th>582418</th>\n",
       "      <td>89270008</td>\n",
       "      <td>C3S-CORDEX/output/WAS-44/SMHI/NOAA-GFDL-GFDL-E...</td>\n",
       "    </tr>\n",
       "    <tr>\n",
       "      <th>582419</th>\n",
       "      <td>89090526</td>\n",
       "      <td>C3S-CORDEX/output/WAS-44/SMHI/NOAA-GFDL-GFDL-E...</td>\n",
       "    </tr>\n",
       "  </tbody>\n",
       "</table>\n",
       "<p>582420 rows × 2 columns</p>\n",
       "</div>"
      ],
      "text/plain": [
       "             size                                               path\n",
       "0       149174995  C3S-CORDEX/output/AFR-22/CCCma/CCCma-CanESM2/h...\n",
       "1       746917232  C3S-CORDEX/output/AFR-22/CCCma/CCCma-CanESM2/h...\n",
       "2       746064628  C3S-CORDEX/output/AFR-22/CCCma/CCCma-CanESM2/h...\n",
       "3       749956475  C3S-CORDEX/output/AFR-22/CCCma/CCCma-CanESM2/h...\n",
       "4       748258546  C3S-CORDEX/output/AFR-22/CCCma/CCCma-CanESM2/h...\n",
       "...           ...                                                ...\n",
       "582415   89610949  C3S-CORDEX/output/WAS-44/SMHI/NOAA-GFDL-GFDL-E...\n",
       "582416   89290540  C3S-CORDEX/output/WAS-44/SMHI/NOAA-GFDL-GFDL-E...\n",
       "582417   89200697  C3S-CORDEX/output/WAS-44/SMHI/NOAA-GFDL-GFDL-E...\n",
       "582418   89270008  C3S-CORDEX/output/WAS-44/SMHI/NOAA-GFDL-GFDL-E...\n",
       "582419   89090526  C3S-CORDEX/output/WAS-44/SMHI/NOAA-GFDL-GFDL-E...\n",
       "\n",
       "[582420 rows x 2 columns]"
      ]
     },
     "execution_count": 2,
     "metadata": {},
     "output_type": "execute_result"
    }
   ],
   "source": [
    "sdf_ipsl = pd.read_csv(\"../cordex/C3S-CORDEX_ipsl_sizes.txt.gz\", sep=\" \", names=[\"size\", \"path\"])\n",
    "sdf_ipsl"
   ]
  },
  {
   "cell_type": "code",
   "execution_count": 3,
   "id": "c121a254",
   "metadata": {},
   "outputs": [
    {
     "data": {
      "text/html": [
       "<div>\n",
       "<style scoped>\n",
       "    .dataframe tbody tr th:only-of-type {\n",
       "        vertical-align: middle;\n",
       "    }\n",
       "\n",
       "    .dataframe tbody tr th {\n",
       "        vertical-align: top;\n",
       "    }\n",
       "\n",
       "    .dataframe thead th {\n",
       "        text-align: right;\n",
       "    }\n",
       "</style>\n",
       "<table border=\"1\" class=\"dataframe\">\n",
       "  <thead>\n",
       "    <tr style=\"text-align: right;\">\n",
       "      <th></th>\n",
       "      <th>path</th>\n",
       "    </tr>\n",
       "  </thead>\n",
       "  <tbody>\n",
       "    <tr>\n",
       "      <th>0</th>\n",
       "      <td>https://data.mips.copernicus-climate.eu/thredd...</td>\n",
       "    </tr>\n",
       "    <tr>\n",
       "      <th>1</th>\n",
       "      <td>https://data.mips.copernicus-climate.eu/thredd...</td>\n",
       "    </tr>\n",
       "    <tr>\n",
       "      <th>2</th>\n",
       "      <td>https://data.mips.copernicus-climate.eu/thredd...</td>\n",
       "    </tr>\n",
       "    <tr>\n",
       "      <th>3</th>\n",
       "      <td>https://data.mips.copernicus-climate.eu/thredd...</td>\n",
       "    </tr>\n",
       "    <tr>\n",
       "      <th>4</th>\n",
       "      <td>https://data.mips.copernicus-climate.eu/thredd...</td>\n",
       "    </tr>\n",
       "    <tr>\n",
       "      <th>...</th>\n",
       "      <td>...</td>\n",
       "    </tr>\n",
       "    <tr>\n",
       "      <th>568797</th>\n",
       "      <td>https://data.mips.copernicus-climate.eu/thredd...</td>\n",
       "    </tr>\n",
       "    <tr>\n",
       "      <th>568798</th>\n",
       "      <td>https://data.mips.copernicus-climate.eu/thredd...</td>\n",
       "    </tr>\n",
       "    <tr>\n",
       "      <th>568799</th>\n",
       "      <td>https://data.mips.copernicus-climate.eu/thredd...</td>\n",
       "    </tr>\n",
       "    <tr>\n",
       "      <th>568800</th>\n",
       "      <td>https://data.mips.copernicus-climate.eu/thredd...</td>\n",
       "    </tr>\n",
       "    <tr>\n",
       "      <th>568801</th>\n",
       "      <td>https://data.mips.copernicus-climate.eu/thredd...</td>\n",
       "    </tr>\n",
       "  </tbody>\n",
       "</table>\n",
       "<p>568802 rows × 1 columns</p>\n",
       "</div>"
      ],
      "text/plain": [
       "                                                     path\n",
       "0       https://data.mips.copernicus-climate.eu/thredd...\n",
       "1       https://data.mips.copernicus-climate.eu/thredd...\n",
       "2       https://data.mips.copernicus-climate.eu/thredd...\n",
       "3       https://data.mips.copernicus-climate.eu/thredd...\n",
       "4       https://data.mips.copernicus-climate.eu/thredd...\n",
       "...                                                   ...\n",
       "568797  https://data.mips.copernicus-climate.eu/thredd...\n",
       "568798  https://data.mips.copernicus-climate.eu/thredd...\n",
       "568799  https://data.mips.copernicus-climate.eu/thredd...\n",
       "568800  https://data.mips.copernicus-climate.eu/thredd...\n",
       "568801  https://data.mips.copernicus-climate.eu/thredd...\n",
       "\n",
       "[568802 rows x 1 columns]"
      ]
     },
     "execution_count": 3,
     "metadata": {},
     "output_type": "execute_result"
    }
   ],
   "source": [
    "mdf_ipsl = pd.read_csv(\"../cordex/manifest_C3S_34B_Lot1_CORDEX_20210708_fixed.txt.gz\", sep=\" \", names=[\"path\"])\n",
    "mdf_ipsl"
   ]
  },
  {
   "cell_type": "code",
   "execution_count": 4,
   "id": "924b555a",
   "metadata": {},
   "outputs": [
    {
     "data": {
      "text/html": [
       "<div>\n",
       "<style scoped>\n",
       "    .dataframe tbody tr th:only-of-type {\n",
       "        vertical-align: middle;\n",
       "    }\n",
       "\n",
       "    .dataframe tbody tr th {\n",
       "        vertical-align: top;\n",
       "    }\n",
       "\n",
       "    .dataframe thead th {\n",
       "        text-align: right;\n",
       "    }\n",
       "</style>\n",
       "<table border=\"1\" class=\"dataframe\">\n",
       "  <thead>\n",
       "    <tr style=\"text-align: right;\">\n",
       "      <th></th>\n",
       "      <th>path</th>\n",
       "    </tr>\n",
       "  </thead>\n",
       "  <tbody>\n",
       "    <tr>\n",
       "      <th>0</th>\n",
       "      <td>C3S-CORDEX/output/AFR-22/CCCma/CCCma-CanESM2/h...</td>\n",
       "    </tr>\n",
       "    <tr>\n",
       "      <th>1</th>\n",
       "      <td>C3S-CORDEX/output/AFR-22/CCCma/CCCma-CanESM2/h...</td>\n",
       "    </tr>\n",
       "    <tr>\n",
       "      <th>2</th>\n",
       "      <td>C3S-CORDEX/output/AFR-22/CCCma/CCCma-CanESM2/h...</td>\n",
       "    </tr>\n",
       "    <tr>\n",
       "      <th>3</th>\n",
       "      <td>C3S-CORDEX/output/AFR-22/CCCma/CCCma-CanESM2/h...</td>\n",
       "    </tr>\n",
       "    <tr>\n",
       "      <th>4</th>\n",
       "      <td>C3S-CORDEX/output/AFR-22/CCCma/CCCma-CanESM2/h...</td>\n",
       "    </tr>\n",
       "    <tr>\n",
       "      <th>...</th>\n",
       "      <td>...</td>\n",
       "    </tr>\n",
       "    <tr>\n",
       "      <th>568797</th>\n",
       "      <td>C3S-CORDEX/output/WAS-44/SMHI/NOAA-GFDL-GFDL-E...</td>\n",
       "    </tr>\n",
       "    <tr>\n",
       "      <th>568798</th>\n",
       "      <td>C3S-CORDEX/output/WAS-44/SMHI/NOAA-GFDL-GFDL-E...</td>\n",
       "    </tr>\n",
       "    <tr>\n",
       "      <th>568799</th>\n",
       "      <td>C3S-CORDEX/output/WAS-44/SMHI/NOAA-GFDL-GFDL-E...</td>\n",
       "    </tr>\n",
       "    <tr>\n",
       "      <th>568800</th>\n",
       "      <td>C3S-CORDEX/output/WAS-44/SMHI/NOAA-GFDL-GFDL-E...</td>\n",
       "    </tr>\n",
       "    <tr>\n",
       "      <th>568801</th>\n",
       "      <td>C3S-CORDEX/output/WAS-44/SMHI/NOAA-GFDL-GFDL-E...</td>\n",
       "    </tr>\n",
       "  </tbody>\n",
       "</table>\n",
       "<p>568802 rows × 1 columns</p>\n",
       "</div>"
      ],
      "text/plain": [
       "                                                     path\n",
       "0       C3S-CORDEX/output/AFR-22/CCCma/CCCma-CanESM2/h...\n",
       "1       C3S-CORDEX/output/AFR-22/CCCma/CCCma-CanESM2/h...\n",
       "2       C3S-CORDEX/output/AFR-22/CCCma/CCCma-CanESM2/h...\n",
       "3       C3S-CORDEX/output/AFR-22/CCCma/CCCma-CanESM2/h...\n",
       "4       C3S-CORDEX/output/AFR-22/CCCma/CCCma-CanESM2/h...\n",
       "...                                                   ...\n",
       "568797  C3S-CORDEX/output/WAS-44/SMHI/NOAA-GFDL-GFDL-E...\n",
       "568798  C3S-CORDEX/output/WAS-44/SMHI/NOAA-GFDL-GFDL-E...\n",
       "568799  C3S-CORDEX/output/WAS-44/SMHI/NOAA-GFDL-GFDL-E...\n",
       "568800  C3S-CORDEX/output/WAS-44/SMHI/NOAA-GFDL-GFDL-E...\n",
       "568801  C3S-CORDEX/output/WAS-44/SMHI/NOAA-GFDL-GFDL-E...\n",
       "\n",
       "[568802 rows x 1 columns]"
      ]
     },
     "execution_count": 4,
     "metadata": {},
     "output_type": "execute_result"
    }
   ],
   "source": [
    "mdf_ipsl.path = mdf_ipsl[\"path\"].str.replace(\"https://data.mips.copernicus-climate.eu/thredds/fileServer/esg_c3s-cordex\", \"C3S-CORDEX\", regex=False)\n",
    "mdf_ipsl"
   ]
  },
  {
   "cell_type": "code",
   "execution_count": 5,
   "id": "3e8ade7b",
   "metadata": {
    "tags": []
   },
   "outputs": [
    {
     "data": {
      "text/plain": [
       "13618"
      ]
     },
     "execution_count": 5,
     "metadata": {},
     "output_type": "execute_result"
    }
   ],
   "source": [
    "# missing paths in manifest\n",
    "missing_paths = set(sdf_ipsl.path) - set(mdf_ipsl.path)\n",
    "len(missing_paths)"
   ]
  },
  {
   "cell_type": "code",
   "execution_count": 6,
   "id": "f8c38311",
   "metadata": {},
   "outputs": [
    {
     "data": {
      "text/plain": [
       "0"
      ]
     },
     "execution_count": 6,
     "metadata": {},
     "output_type": "execute_result"
    }
   ],
   "source": [
    "# not found on disk\n",
    "notfound_paths = set(mdf_ipsl.path) - set(sdf_ipsl.path)\n",
    "len(notfound_paths)"
   ]
  },
  {
   "cell_type": "markdown",
   "id": "0d2bcee1",
   "metadata": {},
   "source": [
    "## Compare datasets"
   ]
  },
  {
   "cell_type": "code",
   "execution_count": 7,
   "id": "0bb75a9b",
   "metadata": {},
   "outputs": [
    {
     "data": {
      "text/html": [
       "<div>\n",
       "<style scoped>\n",
       "    .dataframe tbody tr th:only-of-type {\n",
       "        vertical-align: middle;\n",
       "    }\n",
       "\n",
       "    .dataframe tbody tr th {\n",
       "        vertical-align: top;\n",
       "    }\n",
       "\n",
       "    .dataframe thead th {\n",
       "        text-align: right;\n",
       "    }\n",
       "</style>\n",
       "<table border=\"1\" class=\"dataframe\">\n",
       "  <thead>\n",
       "    <tr style=\"text-align: right;\">\n",
       "      <th></th>\n",
       "      <th>path</th>\n",
       "      <th>ds</th>\n",
       "    </tr>\n",
       "  </thead>\n",
       "  <tbody>\n",
       "    <tr>\n",
       "      <th>0</th>\n",
       "      <td>C3S-CORDEX/output/AFR-22/CCCma/CCCma-CanESM2/h...</td>\n",
       "      <td>AFR-22.CCCma.CCCma-CanESM2.historical.r1i1p1.C...</td>\n",
       "    </tr>\n",
       "    <tr>\n",
       "      <th>1</th>\n",
       "      <td>C3S-CORDEX/output/AFR-22/CCCma/CCCma-CanESM2/h...</td>\n",
       "      <td>AFR-22.CCCma.CCCma-CanESM2.historical.r1i1p1.C...</td>\n",
       "    </tr>\n",
       "    <tr>\n",
       "      <th>2</th>\n",
       "      <td>C3S-CORDEX/output/AFR-22/CCCma/CCCma-CanESM2/h...</td>\n",
       "      <td>AFR-22.CCCma.CCCma-CanESM2.historical.r1i1p1.C...</td>\n",
       "    </tr>\n",
       "    <tr>\n",
       "      <th>3</th>\n",
       "      <td>C3S-CORDEX/output/AFR-22/CCCma/CCCma-CanESM2/h...</td>\n",
       "      <td>AFR-22.CCCma.CCCma-CanESM2.historical.r1i1p1.C...</td>\n",
       "    </tr>\n",
       "    <tr>\n",
       "      <th>4</th>\n",
       "      <td>C3S-CORDEX/output/AFR-22/CCCma/CCCma-CanESM2/h...</td>\n",
       "      <td>AFR-22.CCCma.CCCma-CanESM2.historical.r1i1p1.C...</td>\n",
       "    </tr>\n",
       "    <tr>\n",
       "      <th>...</th>\n",
       "      <td>...</td>\n",
       "      <td>...</td>\n",
       "    </tr>\n",
       "    <tr>\n",
       "      <th>568797</th>\n",
       "      <td>C3S-CORDEX/output/WAS-44/SMHI/NOAA-GFDL-GFDL-E...</td>\n",
       "      <td>WAS-44.SMHI.NOAA-GFDL-GFDL-ESM2M.rcp85.r1i1p1....</td>\n",
       "    </tr>\n",
       "    <tr>\n",
       "      <th>568798</th>\n",
       "      <td>C3S-CORDEX/output/WAS-44/SMHI/NOAA-GFDL-GFDL-E...</td>\n",
       "      <td>WAS-44.SMHI.NOAA-GFDL-GFDL-ESM2M.rcp85.r1i1p1....</td>\n",
       "    </tr>\n",
       "    <tr>\n",
       "      <th>568799</th>\n",
       "      <td>C3S-CORDEX/output/WAS-44/SMHI/NOAA-GFDL-GFDL-E...</td>\n",
       "      <td>WAS-44.SMHI.NOAA-GFDL-GFDL-ESM2M.rcp85.r1i1p1....</td>\n",
       "    </tr>\n",
       "    <tr>\n",
       "      <th>568800</th>\n",
       "      <td>C3S-CORDEX/output/WAS-44/SMHI/NOAA-GFDL-GFDL-E...</td>\n",
       "      <td>WAS-44.SMHI.NOAA-GFDL-GFDL-ESM2M.rcp85.r1i1p1....</td>\n",
       "    </tr>\n",
       "    <tr>\n",
       "      <th>568801</th>\n",
       "      <td>C3S-CORDEX/output/WAS-44/SMHI/NOAA-GFDL-GFDL-E...</td>\n",
       "      <td>WAS-44.SMHI.NOAA-GFDL-GFDL-ESM2M.rcp85.r1i1p1....</td>\n",
       "    </tr>\n",
       "  </tbody>\n",
       "</table>\n",
       "<p>568802 rows × 2 columns</p>\n",
       "</div>"
      ],
      "text/plain": [
       "                                                     path  \\\n",
       "0       C3S-CORDEX/output/AFR-22/CCCma/CCCma-CanESM2/h...   \n",
       "1       C3S-CORDEX/output/AFR-22/CCCma/CCCma-CanESM2/h...   \n",
       "2       C3S-CORDEX/output/AFR-22/CCCma/CCCma-CanESM2/h...   \n",
       "3       C3S-CORDEX/output/AFR-22/CCCma/CCCma-CanESM2/h...   \n",
       "4       C3S-CORDEX/output/AFR-22/CCCma/CCCma-CanESM2/h...   \n",
       "...                                                   ...   \n",
       "568797  C3S-CORDEX/output/WAS-44/SMHI/NOAA-GFDL-GFDL-E...   \n",
       "568798  C3S-CORDEX/output/WAS-44/SMHI/NOAA-GFDL-GFDL-E...   \n",
       "568799  C3S-CORDEX/output/WAS-44/SMHI/NOAA-GFDL-GFDL-E...   \n",
       "568800  C3S-CORDEX/output/WAS-44/SMHI/NOAA-GFDL-GFDL-E...   \n",
       "568801  C3S-CORDEX/output/WAS-44/SMHI/NOAA-GFDL-GFDL-E...   \n",
       "\n",
       "                                                       ds  \n",
       "0       AFR-22.CCCma.CCCma-CanESM2.historical.r1i1p1.C...  \n",
       "1       AFR-22.CCCma.CCCma-CanESM2.historical.r1i1p1.C...  \n",
       "2       AFR-22.CCCma.CCCma-CanESM2.historical.r1i1p1.C...  \n",
       "3       AFR-22.CCCma.CCCma-CanESM2.historical.r1i1p1.C...  \n",
       "4       AFR-22.CCCma.CCCma-CanESM2.historical.r1i1p1.C...  \n",
       "...                                                   ...  \n",
       "568797  WAS-44.SMHI.NOAA-GFDL-GFDL-ESM2M.rcp85.r1i1p1....  \n",
       "568798  WAS-44.SMHI.NOAA-GFDL-GFDL-ESM2M.rcp85.r1i1p1....  \n",
       "568799  WAS-44.SMHI.NOAA-GFDL-GFDL-ESM2M.rcp85.r1i1p1....  \n",
       "568800  WAS-44.SMHI.NOAA-GFDL-GFDL-ESM2M.rcp85.r1i1p1....  \n",
       "568801  WAS-44.SMHI.NOAA-GFDL-GFDL-ESM2M.rcp85.r1i1p1....  \n",
       "\n",
       "[568802 rows x 2 columns]"
      ]
     },
     "execution_count": 7,
     "metadata": {},
     "output_type": "execute_result"
    }
   ],
   "source": [
    "mdf_ipsl[\"ds\"] = mdf_ipsl[\"path\"].apply(lambda x: '.'.join(x.split('/')[2:-1]))\n",
    "mdf_ipsl"
   ]
  },
  {
   "cell_type": "code",
   "execution_count": 8,
   "id": "47561aa2",
   "metadata": {},
   "outputs": [
    {
     "data": {
      "text/html": [
       "<div>\n",
       "<style scoped>\n",
       "    .dataframe tbody tr th:only-of-type {\n",
       "        vertical-align: middle;\n",
       "    }\n",
       "\n",
       "    .dataframe tbody tr th {\n",
       "        vertical-align: top;\n",
       "    }\n",
       "\n",
       "    .dataframe thead th {\n",
       "        text-align: right;\n",
       "    }\n",
       "</style>\n",
       "<table border=\"1\" class=\"dataframe\">\n",
       "  <thead>\n",
       "    <tr style=\"text-align: right;\">\n",
       "      <th></th>\n",
       "      <th>size</th>\n",
       "      <th>path</th>\n",
       "      <th>ds</th>\n",
       "    </tr>\n",
       "  </thead>\n",
       "  <tbody>\n",
       "    <tr>\n",
       "      <th>0</th>\n",
       "      <td>149174995</td>\n",
       "      <td>C3S-CORDEX/output/AFR-22/CCCma/CCCma-CanESM2/h...</td>\n",
       "      <td>AFR-22.CCCma.CCCma-CanESM2.historical.r1i1p1.C...</td>\n",
       "    </tr>\n",
       "    <tr>\n",
       "      <th>1</th>\n",
       "      <td>746917232</td>\n",
       "      <td>C3S-CORDEX/output/AFR-22/CCCma/CCCma-CanESM2/h...</td>\n",
       "      <td>AFR-22.CCCma.CCCma-CanESM2.historical.r1i1p1.C...</td>\n",
       "    </tr>\n",
       "    <tr>\n",
       "      <th>2</th>\n",
       "      <td>746064628</td>\n",
       "      <td>C3S-CORDEX/output/AFR-22/CCCma/CCCma-CanESM2/h...</td>\n",
       "      <td>AFR-22.CCCma.CCCma-CanESM2.historical.r1i1p1.C...</td>\n",
       "    </tr>\n",
       "    <tr>\n",
       "      <th>3</th>\n",
       "      <td>749956475</td>\n",
       "      <td>C3S-CORDEX/output/AFR-22/CCCma/CCCma-CanESM2/h...</td>\n",
       "      <td>AFR-22.CCCma.CCCma-CanESM2.historical.r1i1p1.C...</td>\n",
       "    </tr>\n",
       "    <tr>\n",
       "      <th>4</th>\n",
       "      <td>748258546</td>\n",
       "      <td>C3S-CORDEX/output/AFR-22/CCCma/CCCma-CanESM2/h...</td>\n",
       "      <td>AFR-22.CCCma.CCCma-CanESM2.historical.r1i1p1.C...</td>\n",
       "    </tr>\n",
       "    <tr>\n",
       "      <th>...</th>\n",
       "      <td>...</td>\n",
       "      <td>...</td>\n",
       "      <td>...</td>\n",
       "    </tr>\n",
       "    <tr>\n",
       "      <th>582415</th>\n",
       "      <td>89610949</td>\n",
       "      <td>C3S-CORDEX/output/WAS-44/SMHI/NOAA-GFDL-GFDL-E...</td>\n",
       "      <td>WAS-44.SMHI.NOAA-GFDL-GFDL-ESM2M.rcp85.r1i1p1....</td>\n",
       "    </tr>\n",
       "    <tr>\n",
       "      <th>582416</th>\n",
       "      <td>89290540</td>\n",
       "      <td>C3S-CORDEX/output/WAS-44/SMHI/NOAA-GFDL-GFDL-E...</td>\n",
       "      <td>WAS-44.SMHI.NOAA-GFDL-GFDL-ESM2M.rcp85.r1i1p1....</td>\n",
       "    </tr>\n",
       "    <tr>\n",
       "      <th>582417</th>\n",
       "      <td>89200697</td>\n",
       "      <td>C3S-CORDEX/output/WAS-44/SMHI/NOAA-GFDL-GFDL-E...</td>\n",
       "      <td>WAS-44.SMHI.NOAA-GFDL-GFDL-ESM2M.rcp85.r1i1p1....</td>\n",
       "    </tr>\n",
       "    <tr>\n",
       "      <th>582418</th>\n",
       "      <td>89270008</td>\n",
       "      <td>C3S-CORDEX/output/WAS-44/SMHI/NOAA-GFDL-GFDL-E...</td>\n",
       "      <td>WAS-44.SMHI.NOAA-GFDL-GFDL-ESM2M.rcp85.r1i1p1....</td>\n",
       "    </tr>\n",
       "    <tr>\n",
       "      <th>582419</th>\n",
       "      <td>89090526</td>\n",
       "      <td>C3S-CORDEX/output/WAS-44/SMHI/NOAA-GFDL-GFDL-E...</td>\n",
       "      <td>WAS-44.SMHI.NOAA-GFDL-GFDL-ESM2M.rcp85.r1i1p1....</td>\n",
       "    </tr>\n",
       "  </tbody>\n",
       "</table>\n",
       "<p>582420 rows × 3 columns</p>\n",
       "</div>"
      ],
      "text/plain": [
       "             size                                               path  \\\n",
       "0       149174995  C3S-CORDEX/output/AFR-22/CCCma/CCCma-CanESM2/h...   \n",
       "1       746917232  C3S-CORDEX/output/AFR-22/CCCma/CCCma-CanESM2/h...   \n",
       "2       746064628  C3S-CORDEX/output/AFR-22/CCCma/CCCma-CanESM2/h...   \n",
       "3       749956475  C3S-CORDEX/output/AFR-22/CCCma/CCCma-CanESM2/h...   \n",
       "4       748258546  C3S-CORDEX/output/AFR-22/CCCma/CCCma-CanESM2/h...   \n",
       "...           ...                                                ...   \n",
       "582415   89610949  C3S-CORDEX/output/WAS-44/SMHI/NOAA-GFDL-GFDL-E...   \n",
       "582416   89290540  C3S-CORDEX/output/WAS-44/SMHI/NOAA-GFDL-GFDL-E...   \n",
       "582417   89200697  C3S-CORDEX/output/WAS-44/SMHI/NOAA-GFDL-GFDL-E...   \n",
       "582418   89270008  C3S-CORDEX/output/WAS-44/SMHI/NOAA-GFDL-GFDL-E...   \n",
       "582419   89090526  C3S-CORDEX/output/WAS-44/SMHI/NOAA-GFDL-GFDL-E...   \n",
       "\n",
       "                                                       ds  \n",
       "0       AFR-22.CCCma.CCCma-CanESM2.historical.r1i1p1.C...  \n",
       "1       AFR-22.CCCma.CCCma-CanESM2.historical.r1i1p1.C...  \n",
       "2       AFR-22.CCCma.CCCma-CanESM2.historical.r1i1p1.C...  \n",
       "3       AFR-22.CCCma.CCCma-CanESM2.historical.r1i1p1.C...  \n",
       "4       AFR-22.CCCma.CCCma-CanESM2.historical.r1i1p1.C...  \n",
       "...                                                   ...  \n",
       "582415  WAS-44.SMHI.NOAA-GFDL-GFDL-ESM2M.rcp85.r1i1p1....  \n",
       "582416  WAS-44.SMHI.NOAA-GFDL-GFDL-ESM2M.rcp85.r1i1p1....  \n",
       "582417  WAS-44.SMHI.NOAA-GFDL-GFDL-ESM2M.rcp85.r1i1p1....  \n",
       "582418  WAS-44.SMHI.NOAA-GFDL-GFDL-ESM2M.rcp85.r1i1p1....  \n",
       "582419  WAS-44.SMHI.NOAA-GFDL-GFDL-ESM2M.rcp85.r1i1p1....  \n",
       "\n",
       "[582420 rows x 3 columns]"
      ]
     },
     "execution_count": 8,
     "metadata": {},
     "output_type": "execute_result"
    }
   ],
   "source": [
    "sdf_ipsl[\"ds\"] = sdf_ipsl[\"path\"].apply(lambda x: '.'.join(x.split('/')[2:-1]))\n",
    "sdf_ipsl"
   ]
  },
  {
   "cell_type": "code",
   "execution_count": 9,
   "id": "bd11941e",
   "metadata": {},
   "outputs": [
    {
     "data": {
      "text/plain": [
       "855"
      ]
     },
     "execution_count": 9,
     "metadata": {},
     "output_type": "execute_result"
    }
   ],
   "source": [
    "# missing datasets in manifest\n",
    "missing_ds = set(sdf_ipsl.ds) - set(mdf_ipsl.ds)\n",
    "len(missing_ds)"
   ]
  },
  {
   "cell_type": "code",
   "execution_count": 10,
   "id": "9e161618",
   "metadata": {},
   "outputs": [
    {
     "data": {
      "text/plain": [
       "0"
      ]
     },
     "execution_count": 10,
     "metadata": {},
     "output_type": "execute_result"
    }
   ],
   "source": [
    "# not found on disk\n",
    "notfound_ds = set(mdf_ipsl.ds) - set(sdf_ipsl.ds)\n",
    "len(notfound_ds)"
   ]
  }
 ],
 "metadata": {
  "kernelspec": {
   "display_name": "Python 3 (ipykernel)",
   "language": "python",
   "name": "python3"
  },
  "language_info": {
   "codemirror_mode": {
    "name": "ipython",
    "version": 3
   },
   "file_extension": ".py",
   "mimetype": "text/x-python",
   "name": "python",
   "nbconvert_exporter": "python",
   "pygments_lexer": "ipython3",
   "version": "3.12.0"
  }
 },
 "nbformat": 4,
 "nbformat_minor": 5
}
